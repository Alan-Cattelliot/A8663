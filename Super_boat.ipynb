{
 "cells": [
  {
   "cell_type": "code",
   "execution_count": 1,
   "id": "3af0fbb7",
   "metadata": {},
   "outputs": [],
   "source": [
    "#Dependencies\n",
    "from scipy import interpolate\n",
    "import numpy as np\n",
    "import pandas as pd\n",
    "#pd.set_option('display.max_rows', 500)\n",
    "import csv\n",
    "import plotly.graph_objects as go\n",
    "import bisect"
   ]
  },
  {
   "cell_type": "code",
   "execution_count": 2,
   "id": "97079c3a",
   "metadata": {},
   "outputs": [],
   "source": [
    "def Generate_UV(n,k):\n",
    "    #noyau\n",
    "    cyclesU = 0\n",
    "    phaseU = 0\n",
    "    cyclesV = 0\n",
    "    phaseV = 0\n",
    "    tu = np.linspace(np.pi/-2,np.pi/2,k+1)\n",
    "    tv = np.linspace(np.pi/-2,np.pi/2,n+1)\n",
    "    #tu = np.array([0,np.pi/6,np.pi/2])\n",
    "    #tv = np.array([0,np.pi/6,np.pi/2])\n",
    "    u = (np.sin(tu)+1)/2\n",
    "    v = (np.sin(tv)+1)/2\n",
    "    #(re)Generate\n",
    "    U,V = np.meshgrid(u,v)\n",
    "    VV,UU = np.meshgrid(v,u)\n",
    "    \n",
    "    return U,V,UU,VV"
   ]
  },
  {
   "cell_type": "code",
   "execution_count": 3,
   "id": "aa256a86",
   "metadata": {},
   "outputs": [],
   "source": [
    "def Interpolate_hull(U,V,Xmin,Xmax):\n",
    "    \n",
    "    #source\n",
    "    from scipy.interpolate import CubicSpline, PchipInterpolator\n",
    "    #hull stations list\n",
    "    x = [1,2,5,10,12.92,18,19]\n",
    "    Bofx = [0.625,0.672,0.719,0.787,0.779,0.462,0.308]\n",
    "    BWLofx = [0.240,0.397,0.649,0.560,0.550,0.174,0.071]\n",
    "    Tofx = [-0.415,-0.531,-0.864,-1.026,-1.020,-0.588,-0.317]\n",
    "    Dofx = [1.189,1.521,1.858,1.851,1.907,1.9,1.895]\n",
    "    BCofx = [0.204,0.344,0.560,0.540,0.381,0.173,0.070]\n",
    "    TBCofx = [-0.384,-0.441,-0.568,-0.630,-0.543,-0.112,0.090]\n",
    "    #wetdeck stations list\n",
    "    xwd = [3.7,5,6.92,10,12.92,13.92]\n",
    "    bl4 = [0.800,0.764,0.717,0.703,0.683,0.760]\n",
    "    dl4 = [0.960,0.781,0.76,0.604,0.725,1.400]\n",
    "    bl3 = [0.80,1.279,1.730,1.758,1.45,0.763]\n",
    "    dl3 = [1.045,1.051,1.076,1.099,1.110,1.39]\n",
    "    bl2 = [2.9,2.717,2.498,2.428,2.400,2.428]\n",
    "    bl1 = [2.9,2.9,2.9,2.9,2.9,2.9]\n",
    "    dl1 = [0.960,0.861,0.684,0.604,0.629,0.674]\n",
    "    #derived chine\n",
    "    #BCofx = [(d*bwl/(b-bwl)-t)/(d/(b-bwl)-np.tan(15*np.pi/180)) for d,bwl,b,t in zip(Dofx,BWLofx,Bofx,Tofx)]\n",
    "    #TBCofx = [np.tan(15*np.pi/180)*bc+t for bc,t in zip(BCofx,Tofx)]\n",
    "    #interpo1ators\n",
    "    Bofxi =CubicSpline(x,Bofx)\n",
    "    BWLofxi =CubicSpline(x,BWLofx)\n",
    "    Tofxi =CubicSpline(x,Tofx)\n",
    "    Dofxi =CubicSpline(x,Dofx)\n",
    "    BCofxi =CubicSpline(x,BCofx)\n",
    "    TBCofxi =CubicSpline(x,TBCofx)\n",
    "    #wetdeck interpolation\n",
    "    Bl4i= CubicSpline(xwd, bl4)\n",
    "    Dl4i=CubicSpline(xwd, dl4)\n",
    "    Bl3i =CubicSpline(xwd,bl3)\n",
    "    Dl3i =CubicSpline(xwd,dl3)\n",
    "    Bl2i = CubicSpline(xwd,bl2)\n",
    "    Bl1i = CubicSpline(xwd,bl1)\n",
    "    Dl1i = CubicSpline(xwd,dl1)\n",
    "    \n",
    "    X = U*(Xmax-Xmin)+Xmin\n",
    "    BW = BWLofxi(X)\n",
    "    B = BCofxi(X)\n",
    "    TC = TBCofxi(X)\n",
    "    T = Tofxi(X)\n",
    "    D = Dofxi(X)\n",
    "    BD = Bofxi(X)\n",
    "    \n",
    "    ZWD = Dl4i(X)\n",
    "    DL4 = Dl4i(X)\n",
    "    BL4 = Bl4i(X)\n",
    "    DL3 = Dl3i(X)\n",
    "    DL1 = Dl1i(X)\n",
    "    BL3 = Bl3i(X)\n",
    "    BL2 = Bl2i(X)\n",
    "    BL1 = Bl1i(X)\n",
    "    \n",
    "    #output\n",
    "    return X,BW,B,TC,T,D,BD,ZWD,DL4,BL4,DL3,DL1,BL3,BL2,BL1"
   ]
  },
  {
   "cell_type": "code",
   "execution_count": 4,
   "id": "b9afceaf",
   "metadata": {},
   "outputs": [],
   "source": [
    "def Calculate_pressure_12215_7(bto,ele):\n",
    "    #ajouter ZWDAX,ZSDT,  dans la définition des panneaux = éléments\n",
    "    D2 = bto.LWL[0]\n",
    "    D4 = bto.Tc[0]\n",
    "    D9 = bto.Bc[0]\n",
    "    D13 = bto.β04[0]\n",
    "    D17 = bto.Type[0]\n",
    "    D12 = bto.V[0]\n",
    "    D5 = bto.mLDC[0]\n",
    "    D40 = ele.x/bto.LWL[0]\n",
    "    D46 = ele.ZTx\n",
    "    D10 = bto.BBH[0]\n",
    "    D26 = bto.αWD[0]\n",
    "    D21 = ele.b\n",
    "    D20 = ele.l\n",
    "    D28 = ele.ZQx_Pan\n",
    "    D41 = (0.0286*D2+0.115)*D40+0.0571*D2+0.229\n",
    "    if ele.ZWDAX == '-':\n",
    "        D29 = D41\n",
    "    else:\n",
    "        D29 = ele.ZWDAX\n",
    "    \n",
    "    D30 = ele.detail1\n",
    "    D31 = ele.detail2\n",
    "    #Panel Shape Coefficient\n",
    "    D22 = 1.5-0.0003*D21\n",
    "    D23 = D22*0.1*D5**0.15/(D20*D21*0.000001)**0.3\n",
    "    #Boat Shape Coeefficients\n",
    "    dic_category = {'A':1,'B':0.8,'C':0.6,'D':0.4}\n",
    "\n",
    "    D42 = D28/D41\n",
    "    D43 = (0.0186*D2+0.0748)*D40+0.0371*D2+0.1489\n",
    "    D44 = D29/D43\n",
    "    D47 = dic_category[bto.DesignCat[0]]\n",
    "    if D17 == 'Planning':\n",
    "        D48 = min(max(0.32*(D2/10/D9+0.084)*(50-D13)*D12*D12*D9*D9/D5,3),6)\n",
    "    else:\n",
    "        D48 = min(max(2.5*D2**2/(D5**0.66),1),2)\n",
    "    D49 = min((1.667-0.222*D48)*D40+0.133*D48,1) \n",
    "    D50 = min((1.667-0.222*3)*D40+0.133*3,1)\n",
    "    D51 = 1.3*D10/D2+0.39\n",
    "    if D44>1:\n",
    "        D52 = max((1/D44)**0.8,0.5)\n",
    "    else:\n",
    "        D52 = min((1/D44)**1.5,2)\n",
    "    D53 = min(1/np.cos(D26*np.pi/180),1.5)\n",
    "    if D40<0.6:\n",
    "        k1=0.416*D40+0.5\n",
    "    else:\n",
    "        k1 = (1.25*D40)\n",
    "    D54 = min(k1,1.25)\n",
    "    if D17==\"Planning\":\n",
    "        D56 = 0.1*D5/D2/D9*(1+D47**0.5*D48)\n",
    "    else:\n",
    "        D56 = (2*D5**0.33+18)*D48\n",
    "    D57 = D56*D23*D47*D49\n",
    "    D58 = max(0.3*D5**0.33+0.66*D2*D47,10*D4,7)\n",
    "    D59 = 0.375*D5**0.33+9\n",
    "    D60 = D59*D23*D47*D50\n",
    "    D61 = 0.9*D56\n",
    "    D77 = max((0.3*D5**0.33+0.66*D2*D47)*D49,7)\n",
    "    D62 = max(D56*D23*D47*D54*D52*D51*D53,D77)\n",
    "    D63 = min((D28-D46)/(D41-D46),1)\n",
    "    D93 = max(D57,0.3*D5**0.33+0.66*D2*D47,10*D4,7)\n",
    "    D103 = max(D60,5)\n",
    "    D63 = min((D28-D46)/(D41-D46),1)\n",
    "    D65 = min((D29-D46)/(D43-D46),1)\n",
    "    D64 = max((D56-(D56-D59)*D65)*D23*D47*D50,5)\n",
    "\n",
    "    if D31 == \"Walking\":\n",
    "        D66 = 5\n",
    "    else:\n",
    "        D66 = 3.5\n",
    "    if D31 == \"Walking\": \n",
    "         if D30 == \"Front of Superstructure\" or D30 == \"Side of superstructure\" or D30 ==\"Side of Open Cockpit\":\n",
    "            D67 = 0.67\n",
    "         else:\n",
    "            D67 = 0.5\n",
    "    else:\n",
    "         if D30 == \"Front of Superstructure\" or D30 == \"Side of superstructure\" or D30 ==\"Side of Open Cockpit\":\n",
    "            D67 = 0.5\n",
    "         else:\n",
    "            D67 = 0.35\n",
    "    if D30 == \"Front of Superstructure\":\n",
    "        D68 = 0.3\n",
    "    elif D30 == \"Side of superstructure\":\n",
    "        D68 = 0.4\n",
    "    elif D30 == \"Top of superstructures\":\n",
    "        D68 = 0.5\n",
    "    elif D30 == \"Non-protected aft side of superstructures\":\n",
    "        D68 = 0.6\n",
    "    else:\n",
    "        D68 = 1.0\n",
    "    \n",
    "    if D17==\"Planning\":\n",
    "        D99 = D93-(0.4*D93-D103)*D63\n",
    "    else:\n",
    "        D99 = D93-(D93-D103)*D63\n",
    "\n",
    "    D62 = max(D56*D23*D47*D54*D52*D51*D53,D77)\n",
    "    D101 = max(D62,0.3*D5**0.33+0.66*D2*D47,7)\n",
    "    D69 = D28-D41\n",
    "    D70 = max(1-D68*D69/np.cos(D26*np.pi/180)/0.067/D2,D67)\n",
    "    D71 = min((D28-D46)/(D41-D46),1.0)\n",
    "    D72 = min((D28-D46)/(D29-D46),1.0)\n",
    "    D73 = D57-(D57-D99)*D71\n",
    "    D74 = max(D58-(D58-5)*D71,5.0)\n",
    "    D75 = D57-(D57-D101)*D72\n",
    "    D76 = max(D58-(D58-5)*D72,5.0)\n",
    "    D94 = max(0.85*D93,5.0)\n",
    "    D95 = max(D73,D74)\n",
    "    D96 = max(0.85*D95,5.0)\n",
    "    D97 = max(D75,D76)\n",
    "    D98 = max(0.85*D97,5.0)\n",
    "    D100 = max(D99*0.85,5.0)\n",
    "    D101 = max(D62,0.3*D5**0.33+0.66*D2*D47,7.0)\n",
    "    D102 = max(D101*0.85,5.0)\n",
    "    D104 = max(D103*0.85,5.0)\n",
    "    D105 = max(D59*D23*D47*D50*D70,D66)\n",
    "    D106 = max(D105*0.85,5.0)\n",
    "    \n",
    "    \n",
    "    \n",
    "    return D93,D95,D101,D5,D2,D9,D47,D48,D56,D41,D97,D103,D101\n"
   ]
  },
  {
   "cell_type": "code",
   "execution_count": 5,
   "id": "80bacfbe",
   "metadata": {},
   "outputs": [],
   "source": [
    "# Coefficients 12215-5:2019\n",
    "# A.5.3 Hard chine section\n",
    "\n",
    "def kCH(α):\n",
    "    \n",
    "    k = 1.4936e-9*α**5 - 8.8948e-7*α**4 + 2.1076e-4*α**3 - 2.4799e-2*α**2 + 1.4484*α - 32.5783\n",
    "    return k\n",
    "\n",
    "\n",
    "#A.8.2 Facteurs d’ajustement de l’épaisseur pour le bordé\n",
    "\n",
    "\n",
    "def k2(dim1,dim2,orientation):\n",
    "    \n",
    "    # invalid character '−' (U+2212 in the standard\n",
    "    \n",
    "    \n",
    "    if orientation == 'b':\n",
    "        \n",
    "        if dim1/dim2 <= 2:\n",
    "            a = -0.0103\n",
    "            b = 0.0790\n",
    "            c = -0.1441\n",
    "            d = -0.2780\n",
    "            e = 1.1645\n",
    "            f = -0.5065\n",
    "            k2 = a * (dim1/dim2)**5 + b *(dim1/dim2)**4 + c * (dim1/dim2)**3 + d * (dim1/dim2)**2 + e * (dim1/dim2) + f\n",
    "        else:\n",
    "            k2 = 0.5\n",
    "            \n",
    "     \n",
    "    elif orientation == 'l':\n",
    "        \n",
    "         if dim1/dim2 <= 2:\n",
    "            a = 0.0227\n",
    "            b = -0.2497\n",
    "            c = 1.0846\n",
    "            d = -2.3255\n",
    "            e = 2.4592\n",
    "            f = -0.6860\n",
    "            k2 = a * (dim1/dim2)**5 + b *(dim1/dim2)**4 + c * (dim1/dim2)**3 + d * (dim1/dim2)**2 + e * (dim1/dim2) + f\n",
    "         \n",
    "         else:\n",
    "            k2 = 0.337\n",
    "        \n",
    "    \n",
    "    return k2\n",
    "\n",
    "\n",
    "\n",
    "def kSH(dim1,dim2,orientation):\n",
    "    \n",
    "    # invalid character '−' (U+2212 in the standard\n",
    "    \n",
    "    \n",
    "    if orientation == 'b':\n",
    "        \n",
    "        if dim1/dim2 <= 2:\n",
    "            a = -0.0032\n",
    "            b = -0.0194\n",
    "            c = 0.3325\n",
    "            d = -1.2586\n",
    "            e = 1.9183\n",
    "            f = -0.5339\n",
    "            kSH = a * (dim1/dim2)**5 + b *(dim1/dim2)**4 + c * (dim1/dim2)**3 + d * (dim1/dim2)**2 + e * (dim1/dim2) + f\n",
    "        else:\n",
    "            kSH = 0.52\n",
    "            \n",
    "     \n",
    "    elif orientation == 'l':\n",
    "        \n",
    "         if dim1/dim2 <= 2:\n",
    "            a = 0.0372\n",
    "            b = -0.3841\n",
    "            c = 1.5530\n",
    "            d = -3.0725\n",
    "            e = 2.9792\n",
    "            f = -0.6767\n",
    "            kSH = a * (dim1/dim2)**5 + b *(dim1/dim2)**4 + c * (dim1/dim2)**3 + d * (dim1/dim2)**2 + e * (dim1/dim2) + f\n",
    "         \n",
    "         else:\n",
    "            kSH = 0.46\n",
    "        \n",
    "    \n",
    "    return kSH\n",
    "\n",
    "\n",
    "#A.8.2.2Facteursdecorrectiondecourbure\n",
    "\n",
    "def kc(dim1,dim2,c1,c2):\n",
    "    \n",
    "    cll = c1/dim1\n",
    "    cbb = c2/dim2\n",
    "    \n",
    "    if cll < 0.03:\n",
    "        cll = 0.03\n",
    "    if cbb < 0.03:\n",
    "        cbb = 0.03\n",
    "           \n",
    "    a = np.array([-59.161,-52.061,-42.596,-35.496])\n",
    "    b = np.array([34.928,30.737,25.148,20.957])\n",
    "    c = np.array([-7.9717,-7.0151,-5.7396,-4.783])\n",
    "    d = np.array([1.209,1.0945,0.9569,0.8474])\n",
    "\n",
    "    #cbsurb = np.array([0.030,0.050,0.075,0.1,0.125,0.150,0.175,0.2,0.225])\n",
    "    clsurl = np.array([0.030,0.060,0.080,0.1])\n",
    "\n",
    "    fai = interpolate.interp1d(clsurl , a,kind='cubic')\n",
    "    fbi = interpolate.interp1d(clsurl , b,kind='cubic')\n",
    "    fci = interpolate.interp1d(clsurl , c,kind='cubic')\n",
    "    fdi = interpolate.interp1d(clsurl , d,kind='cubic')\n",
    "       \n",
    "    ai = fai(cll)\n",
    "    bi = fbi(cll)\n",
    "    ci = fci(cll)\n",
    "    di = fdi(cll)\n",
    "   \n",
    "    kc = ai*(cbb)**3 + bi*(cbb)**2 + ci*(cbb) + di\n",
    "\n",
    "    # debug\n",
    "    # xnew = np.arange(0.03, 0.1, 0.01)\n",
    "    # ynew = fci(xnew)   # use interpolation function returned by `interp1d`\n",
    "    # plt.plot(clsurl, c, 'o', xnew, ynew, '-')\n",
    "    # plt.show()\n",
    "\n",
    "    #cbb = np.arange(0.03, 0.225, 0.01)\n",
    "    \n",
    "    #ai = fai(0.045)\n",
    "    #bi = fbi(0.045)\n",
    "    #ci = fci(0.045)\n",
    "    #di = fdi(0.045)\n",
    "\n",
    "    #kc = ai*(cbsurb)**3 + bi*(cbsurb)**2 + ci*(cbsurb) + di\n",
    "    #kcnew = ai*(cbb)**3 + bi*(cbb)**2 + ci*(cbb) + di\n",
    "    #plt.plot(cbsurb, kc, 'o',cbb,kcnew,'-')\n",
    "    #plt.show()\n",
    "    \n",
    "    return kc\n",
    "\n",
    "\n",
    "# A.8 Facteurs de correction de courbures et conditions aux limites pour les raidisseurs\n",
    "\n",
    "def kCS(clu,lu):\n",
    "    \n",
    "    clsurl = clu/lu\n",
    "    kCS = -17.309 * (clsurl)**2 - 1.8042  * (clsurl) + 1.0717\n",
    "    \n",
    "    return kCS\n",
    "\n",
    "\n",
    "def kBM(bcs,position):\n",
    "\n",
    "    dic   = {'LeftEnd_FF'      : -0.083,\n",
    "           'Middle_FF'         :  0.042,\n",
    "           'RigthEnd_FF'       : -0.083,\n",
    "           'LeftEnd_EB'        : -0.125,\n",
    "           'Middle_EB'         :  0.070,\n",
    "           'RigthEnd_EB'       :  0.035,\n",
    "           'LeftEnd_SS'        :  0.0625,\n",
    "           'Middle_SS'         :  0.125,\n",
    "           'RigthEnd_SS'       :  0.0625,\n",
    "\n",
    "        }\n",
    "\n",
    "    strValue = position+'_'+bcs\n",
    "    \n",
    "    return dic[strValue]\n",
    "\n",
    "\n",
    "def kSF(bcs,position):\n",
    "\n",
    "    dic   = {'LeftEnd_FF'      :  0.50,\n",
    "           'Middle_FF'         :  0.25,\n",
    "           'RigthEnd_FF'       : -0.50,\n",
    "           'LeftEnd_EB'        :  0.625,\n",
    "           'Middle_EB'         :  0.25,\n",
    "           'RigthEnd_EB'       : -0.50,\n",
    "           'LeftEnd_SS'        :  0.50,\n",
    "           'Middle_SS'         :  0.25,\n",
    "           'RigthEnd_SS'       : -0.50,\n",
    "\n",
    "        }\n",
    "\n",
    "    strValue = position+'_'+bcs\n",
    "    \n",
    "    return dic[strValue]\n",
    "\n",
    "\n",
    "#A.10 Exigences pour l’épaisseur ou le moment de flexion dû à la pression\n",
    "\n",
    "def tp(Pressure,dim2,kc,k2b,sigmad):\n",
    "    \n",
    "    tp = dim2*kc*(Pressure*k2b/1000/sigmad)**0.5\n",
    "    \n",
    "    return tp\n",
    "\n",
    "\n",
    "#A.4 Effort tranchant et moment de flexion de conception sur un panneau rectangulaire\n",
    "\n",
    "def efforts(Pressure,dim1,dim2,c1,c2,orientation):\n",
    "    \n",
    "    if orientation == 'b':\n",
    "        k2b = k2(dim1,dim2,orientation)\n",
    "        kcb = kc(dim1,dim2,c1,c2)\n",
    "        kSHb = kSH(dim1,dim2,orientation)\n",
    "        Fd = kcb*kSHb*Pressure*dim2*1e-3\n",
    "        Md = (1/6)*kcb*k2b*Pressure*dim2**2*1e-3\n",
    "        \n",
    "    return Fd,Md\n",
    "\n",
    "def be(s,lu,bcs):\n",
    "    \n",
    "    dic   = {'FF'      :  2.478,\n",
    "           'EB'        :  1.467,\n",
    "           'SS'        :  0.825,\n",
    "        }\n",
    "\n",
    "    k1 = dic[bcs]\n",
    "    # attention le rapport E/G est fixé suivant les recommendations de la norme !! \n",
    "    # à modifier pour tenir compte du E et du G du bordé associé\n",
    "    k2 = 3.3\n",
    "    r = (s/lu)**2\n",
    "    be = (1+k1*k2*r)**(-1)*s\n",
    "    \n",
    "    return be\n",
    "\n",
    "\n",
    "# Stiffeners efforts\n",
    "\n",
    "def efforts_stiffeners(Pressure,s,lu,clu,bcs,orientation,position):\n",
    "    \n",
    "    kSFl = kSF(bcs,position)\n",
    "    kBMl = kBM(bcs,position)\n",
    "    kCSl = kCS(clu,lu)\n",
    "    Fd =  kSFl*kCSl*Pressure*s*lu*1e-3\n",
    "    Md =  kBMl*kCSl*Pressure*s*lu**2*1e-3\n",
    "    \n",
    "    return Fd,Md\n",
    "    \n"
   ]
  },
  {
   "cell_type": "code",
   "execution_count": 6,
   "id": "21cef576",
   "metadata": {},
   "outputs": [],
   "source": [
    "def Bottomofx(X,V,BW,B,TC,T,D,BD):\n",
    "    # Panel\n",
    "    rho = ((TC-T)**2+B**2)**0.5\n",
    "    alpha = np.arctan((TC-T)/B)\n",
    "    Y= V*rho*np.cos(alpha)\n",
    "    Z = V*rho*np.sin(alpha)+T\n",
    "    return Y,Z"
   ]
  },
  {
   "cell_type": "code",
   "execution_count": 7,
   "id": "5414b660",
   "metadata": {},
   "outputs": [],
   "source": [
    "def Chineofx(X,V,BW,B,TC,T,D,BD):\n",
    "    # Panel\n",
    "    rho = ((BW-B)**2+TC**2)**0.5\n",
    "    alpha = np.arctan(-TC/(BW-B))\n",
    "    Y= V*rho*np.cos(alpha) + B\n",
    "    Z = V*rho*np.sin(alpha) + TC\n",
    "    return Y,Z"
   ]
  },
  {
   "cell_type": "code",
   "execution_count": 8,
   "id": "7505071a",
   "metadata": {},
   "outputs": [],
   "source": [
    "def Wallofx(X,V,BW,B,TC,T,D,BD):\n",
    "    # Panel\n",
    "    rho = ((BD-BW)**2+(D)**2)**0.5\n",
    "    alpha = np.arctan(D/(BD-BW))\n",
    "    Y= V*rho*np.cos(alpha) + BW\n",
    "    Z = V*rho*np.sin(alpha)\n",
    "    return Y,Z"
   ]
  },
  {
   "cell_type": "code",
   "execution_count": 9,
   "id": "59d03fa6",
   "metadata": {},
   "outputs": [],
   "source": [
    "def Deckofx(X,V,BW,B,TC,T,D,BD):\n",
    "    # Panel\n",
    "    rho = 0\n",
    "    alpha = 0\n",
    "    Y= 2*V*BD-BD\n",
    "    Z = D\n",
    "    return Y,Z"
   ]
  },
  {
   "cell_type": "code",
   "execution_count": 10,
   "id": "4fb41053",
   "metadata": {},
   "outputs": [],
   "source": [
    "def InnerWall(X,V,BW,B,TC,T,D,BD,ZWD):\n",
    "    # Panel\n",
    "    rho = ((BD-BW)**2+(D)**2)**0.5\n",
    "    alpha = np.arctan(D/(BD-BW))\n",
    "    Y= V*rho*np.cos(alpha) + BW\n",
    "    Z = V*rho*np.sin(alpha)\n",
    "    return -Y,Z"
   ]
  },
  {
   "cell_type": "code",
   "execution_count": 11,
   "id": "1a006867",
   "metadata": {},
   "outputs": [],
   "source": [
    "def InnerWall2(X,V,BW,B,TC,T,D,BD,ZWD):\n",
    "    # Panel\n",
    "    rho = (((ZWD+D*BW/(BD-BW))/(D/(BD-BW))-BW)**2+ZWD**2)**0.5\n",
    "    alpha = np.arctan(D/(BD-BW))\n",
    "    Y= V*rho*np.cos(alpha) + BW\n",
    "    Z = V*rho*np.sin(alpha)\n",
    "    return -Y,Z"
   ]
  },
  {
   "cell_type": "code",
   "execution_count": 12,
   "id": "7cd192f4",
   "metadata": {},
   "outputs": [],
   "source": [
    "def InnerWall2Wetdeck(X,V,BW,B,TC,T,D,BD,ZWD,DL3,DL4,BL3,BL4):\n",
    "    # #outside panels @angle\n",
    "    # bi = np.linspace(BL4,BL3,nwetdeck+1) #n panels requires n+1 stations (minimum 1)\n",
    "    rn = (DL3-DL4) #numérateur du coefficient directeur dy\n",
    "    rd = (BL3-BL4) #dénominateur du coefficient directeur dx\n",
    "    r = rn/rd #coefficient directeur\n",
    "    p = DL4-BL4*r # intersection à l'origine\n",
    "    # ti = [r*(b+bp)/2+p for b,bp in zip(bi[:-1],bi[1:]) ]\n",
    "    # L1 = (xi[i+1]-xi[i])*1000\n",
    "    # L2 = (rn**2+rd**2)**0.5/nwetdeck*1000\n",
    "\n",
    "    rho = (rn**2+rd**2)**0.5\n",
    "    alpha = np.arctan(r)\n",
    "    Y= V*rho*np.cos(alpha) + BL4\n",
    "    Z = V*rho*np.sin(alpha) + DL4\n",
    "    return -Y,Z"
   ]
  },
  {
   "cell_type": "code",
   "execution_count": 13,
   "id": "6f2931dc",
   "metadata": {},
   "outputs": [],
   "source": [
    "def Wetdeck1(X,V,BW,B,TC,T,D,BD,ZWD,BL2,BL3,DL3):\n",
    "    rn = 0 #numérateur du coefficient directeur dy=0 (FLAT)\n",
    "    rd = (BL2-BL3) #dénominateur du coefficient directeur dx\n",
    "    r = rn/rd #coefficient directeur\n",
    "    #changement de repère\n",
    "    rho = (rn**2+rd**2)**0.5\n",
    "    alpha = np.arctan(r)\n",
    "    Y = V*rho*np.cos(alpha) + BL3\n",
    "    Z = V*rho*np.sin(alpha) + DL3 \n",
    "    return -Y,Z"
   ]
  },
  {
   "cell_type": "code",
   "execution_count": 14,
   "id": "4c388d86",
   "metadata": {},
   "outputs": [],
   "source": [
    "def Wetdeck2(X,V,BW,B,TC,T,D,BD,DL1,DL3,BL1,BL2,BL3):\n",
    "    rn = (DL1-DL3) #numérateur du coefficient directeur dy=0 (FLAT)\n",
    "    rd = (BL1-BL2) #dénominateur du coefficient directeur dx\n",
    "    r = rn/rd #coefficient directeur\n",
    "    #changement de repère\n",
    "    rho = (rn**2+rd**2)**0.5\n",
    "    alpha = np.arctan(r)\n",
    "    Y = V*rho*np.cos(alpha) + BL2\n",
    "    Z = V*rho*np.sin(alpha) + DL3\n",
    "    return -Y,Z"
   ]
  },
  {
   "cell_type": "code",
   "execution_count": 15,
   "id": "3cb6bc97",
   "metadata": {},
   "outputs": [],
   "source": [
    "def Draw(X,Y,Z,colorscale,symetryY):\n",
    "    data = []\n",
    "    out = go.Surface(x=X, y=Y, z=Z,colorscale=colorscale,opacity=0.5)\n",
    "#     line_marker = dict(color='#101010', width=4)\n",
    "#     for xx, yy, zz in zip(X, Y, Z):\n",
    "#         out = go.Scatter3d(x=xx, y=yy, z=zz, mode='lines', line=line_marker, name='')\n",
    "#         data += [out]\n",
    "    return out"
   ]
  },
  {
   "cell_type": "code",
   "execution_count": 16,
   "id": "8eae089b",
   "metadata": {},
   "outputs": [],
   "source": [
    "def Built_object(obj):\n",
    "    \n",
    "    #subgrid markers\n",
    "    line_marker = dict(color='#101010', width=4)\n",
    "\n",
    "    n,k,Xmin,Xmax,regions,U,V,UU,VV = obj\n",
    "    \n",
    "    #initialize output\n",
    "    data = []\n",
    "    \n",
    "    \n",
    "    #object surface\n",
    "    for i in range(len(regions)):\n",
    "        X,BW,B,TC,T,D,BD,ZWD,DL4,BL4,DL3,DL1,BL3,BL2,BL1 = Interpolate_hull(U,V,Xmin,Xmax)\n",
    "        selection = regions[i]\n",
    "        if selection[0] == 'A':\n",
    "            #map object + symétrique\n",
    "            Y,Z = Bottomofx(X,V,BW,B,TC,T,D,BD)\n",
    "            colorscale='blues_r'\n",
    "        if selection[0] == 'B':\n",
    "            #map object + symétrique\n",
    "            Y,Z = Chineofx(X,V,BW,B,TC,T,D,BD)\n",
    "            colorscale='gray_r'\n",
    "        if selection[0] == 'C':\n",
    "            #map object\n",
    "            Y,Z = Wallofx(X,V,BW,B,TC,T,D,BD)\n",
    "            colorscale='reds_r'\n",
    "        if selection[0] == 'D':\n",
    "            #map object\n",
    "            Y,Z = Deckofx(X,V,BW,B,TC,T,D,BD)\n",
    "            colorscale='oranges_r'\n",
    "        if selection[0] == 'E':\n",
    "            Y,Z = InnerWall(X,V,BW,B,TC,T,D,BD,ZWD)\n",
    "            colorscale='reds_r'\n",
    "        if selection[0] == 'F':\n",
    "            Y,Z = InnerWall2(X,V,BW,B,TC,T,D,BD,ZWD)\n",
    "            colorscale='reds_r'\n",
    "        if selection[0] == 'G':\n",
    "            Y,Z = InnerWall2Wetdeck(X,V,BW,B,TC,T,D,BD,ZWD,DL3,DL4,BL3,BL4)\n",
    "            colorscale='greys_r'\n",
    "        if selection[0] == 'H':  \n",
    "            Y,Z = Wetdeck1(X,V,BW,B,TC,T,D,BD,ZWD,BL2,BL3,DL3)\n",
    "            colorscale='greys_r'\n",
    "        if selection[0] == 'I':  \n",
    "            Y,Z = Wetdeck2(X,V,BW,B,TC,T,D,BD,DL1,DL3,BL1,BL2,BL3)\n",
    "            colorscale='greys_r'\n",
    "        #draw object\n",
    "        object =  Draw(X,Y,Z,colorscale,'Y')\n",
    "        data += [object]\n",
    "        for xx, yy, zz in zip(X, Y, Z):\n",
    "            data += [go.Scatter3d(x=xx, y=yy, z=zz, mode='lines', line=line_marker, name='')]\n",
    "        if selection[-1] == 's':\n",
    "                object =  Draw(X,-Y,Z,colorscale,'Y')\n",
    "                #append object\n",
    "                data += [object]\n",
    "                for xx, yy, zz in zip(X, Y, Z):\n",
    "                    data += [go.Scatter3d(x=xx, y=-yy, z=zz, mode='lines', line=line_marker, name='')]\n",
    "    \n",
    "    #object surface\n",
    "    for i in range(len(regions)):\n",
    "        XX,BW,B,TC,T,D,BD,ZWD,DL4,BL4,DL3,DL1,BL3,BL2,BL1 = Interpolate_hull(UU,VV,Xmin,Xmax)\n",
    "        selection = regions[i]\n",
    "        if selection[0] == 'A':\n",
    "            #map object + symétrique\n",
    "            YY,ZZ = Bottomofx(XX,VV,BW,B,TC,T,D,BD)\n",
    "            colorscale='blues_r'\n",
    "        if selection[0] == 'B':\n",
    "            #map object + symétrique\n",
    "            YY,ZZ = Chineofx(XX,VV,BW,B,TC,T,D,BD)\n",
    "            colorscale='gray_r'\n",
    "        if selection[0] == 'C':\n",
    "            #map object\n",
    "            YY,ZZ = Wallofx(XX,VV,BW,B,TC,T,D,BD)\n",
    "            colorscale='reds_r'\n",
    "        if selection[0] == 'D':\n",
    "            #map object\n",
    "            YY,ZZ = Deckofx(XX,VV,BW,B,TC,T,D,BD)\n",
    "            colorscale='oranges_r'\n",
    "        if selection[0] == 'E':\n",
    "            YY,ZZ = InnerWall(XX,VV,BW,B,TC,T,D,BD,ZWD)\n",
    "            colorscale='reds_r'\n",
    "        if selection[0] == 'F':\n",
    "            YY,ZZ = InnerWall2(XX,VV,BW,B,TC,T,D,BD,ZWD)\n",
    "            colorscale='reds_r'\n",
    "        if selection[0] == 'G':\n",
    "            YY,ZZ = InnerWall2Wetdeck(XX,VV,BW,B,TC,T,D,BD,ZWD,DL3,DL4,BL3,BL4)\n",
    "            colorscale='greys_r'\n",
    "        if selection[0] == 'H':  \n",
    "            YY,ZZ = Wetdeck1(XX,VV,BW,B,TC,T,D,BD,ZWD,BL2,BL3,DL3)\n",
    "            colorscale='greys_r'\n",
    "        if selection[0] == 'I':  \n",
    "            YY,ZZ = Wetdeck2(XX,VV,BW,B,TC,T,D,BD,DL1,DL3,BL1,BL2,BL3)\n",
    "            colorscale='greys_r'\n",
    "        for xx, yy, zz in zip(XX, YY, ZZ):\n",
    "            data += [go.Scatter3d(x=xx, y=yy, z=zz, mode='lines', line=line_marker, name='')]\n",
    "        if selection[-1] == 's':\n",
    "            for xx, yy, zz in zip(XX, YY, ZZ):\n",
    "                    data += [go.Scatter3d(x=xx, y=-yy, z=zz, mode='lines', line=line_marker, name='')]\n",
    "        \n",
    "\n",
    "    \n",
    "    return data,X,Y,Z,XX,YY,ZZ"
   ]
  },
  {
   "cell_type": "code",
   "execution_count": 17,
   "id": "7b7ac741",
   "metadata": {},
   "outputs": [],
   "source": [
    "def Intersect_UV(obj1,obj2):\n",
    "    #obj1 Master obj2 Client\n",
    "    n1,k1,min1,max1,region1 = obj1\n",
    "    n2,k2,min2,max2,region2 = obj2\n",
    "    #noyaux1\n",
    "    cyclesU2 = 0\n",
    "    phaseU2 = 0\n",
    "    cyclesV2 = 0\n",
    "    phaseV2 = 0\n",
    "    tu2 = np.linspace(np.pi/-2,np.pi/2,k2+1)\n",
    "    tv2 = np.linspace(np.pi/-2,np.pi/2,n2+1)\n",
    "    #may need a remove doubles here\n",
    "    u2 = (np.sin(tu2)+1)/2\n",
    "    v2 = (np.sin(tv2)+1)/2\n",
    "    #convert in X-space\n",
    "    x21 = u2*(max2-min2)+min2\n",
    "    #convert back in t-space\n",
    "    u21 = (x21-min1)/(max1-min1)\n",
    "    tu21 = np.arcsin(2*u21-1)\n",
    "    #noyaux1\n",
    "    cyclesU1 = 0\n",
    "    phaseU1 = 0\n",
    "    cyclesV1 = 0\n",
    "    phaseV1 = 0\n",
    "    tu1 = np.linspace(np.pi/-2,np.pi/2,k1+1)\n",
    "    tv1 = np.linspace(np.pi/-2,np.pi/2,n1+1)\n",
    "    #intersect noyaux 2>1\n",
    "    tu1 = np.append(tu1, tu21) \n",
    "    tu1 = np.sort(tu1)\n",
    "    #may need a remove doubles here\n",
    "    u1 = (np.sin(tu1)+1)/2\n",
    "    v1 = (np.sin(tv1)+1)/2\n",
    "    #(re)Generate\n",
    "    U1,V1 = np.meshgrid(u1,v1)\n",
    "    VV1,UU1 = np.meshgrid(v1,u1)\n",
    "    U1,V1 = np.meshgrid(u1,v1)\n",
    "    VV1,UU1 = np.meshgrid(v1,u1)\n",
    "\n",
    "    #(re)Generate\n",
    "    U2,V2 = np.meshgrid(u2,v2)\n",
    "    VV2,UU2 = np.meshgrid(v2,u2)\n",
    "    U2,V2 = np.meshgrid(u2,v2)\n",
    "    VV2,UU2 = np.meshgrid(v2,u2)\n",
    "    \n",
    "\n",
    "    return U1,V1,UU1,VV1,U2,V2,UU2,VV2"
   ]
  },
  {
   "cell_type": "code",
   "execution_count": 18,
   "id": "2cc4822b",
   "metadata": {},
   "outputs": [],
   "source": [
    "def Generate_object(obj):\n",
    "    #initiate\n",
    "    data = []\n",
    "    objects = []\n",
    "    n,k,Xmin,Xmax,regions = obj\n",
    "    #iterate on objects\n",
    "    for i in range(len(regions)):\n",
    "        region = regions[i]\n",
    "        #generate map\n",
    "        U,V,UU,VV = Generate_UV(n,k)\n",
    "        obj = [n,k,Xmin,Xmax,region,U,V,UU,VV]\n",
    "        out,X,Y,Z,XX,YY,ZZ = Built_object(obj)\n",
    "        #store data\n",
    "        data += out\n",
    "        obj += [X,Y,Z,XX,YY,ZZ]\n",
    "        objects += [obj]\n",
    "    return objects,data"
   ]
  },
  {
   "cell_type": "code",
   "execution_count": 19,
   "id": "31e13b67",
   "metadata": {},
   "outputs": [],
   "source": [
    "def Link_object(obj1,obj2):\n",
    "    #initiate\n",
    "    data = []\n",
    "    n1,k1,Xmin1,Xmax1,regions1 = obj1\n",
    "    n2,k2,Xmin2,Xmax2,regions2 = obj2\n",
    "    #generate maps\n",
    "    U1,V1,UU1,VV1,U2,V2,UU2,VV2 = Intersect_UV(obj1,obj2)\n",
    "    #initialize output\n",
    "    data = []\n",
    "    #update station number object1\n",
    "    obj1 = [n1,k1+k2,Xmin1,Xmax1,regions1,U1,V1,UU1,VV1]\n",
    "    obj2 = [n2,k2,Xmin2,Xmax2,regions2,U2,V2,UU2,VV2]\n",
    "    out1,X1,Y1,Z1,XX1,YY1,ZZ1  = Built_object(obj1)\n",
    "    out2,X2,Y2,Z2,XX2,YY2,ZZ2  = Built_object(obj2)\n",
    "    #store data\n",
    "    data += out1\n",
    "    data += out2\n",
    "    obj1 += [X1,Y1,Z1,XX1,YY1,ZZ1]\n",
    "    obj2 += [X2,Y2,Z2,XX2,YY2,ZZ2]\n",
    "    \n",
    "    return data,obj1,obj2"
   ]
  },
  {
   "cell_type": "code",
   "execution_count": 20,
   "id": "71983900",
   "metadata": {},
   "outputs": [],
   "source": [
    "def Center_UV(lst):\n",
    "    out = []\n",
    "    for item in lst:\n",
    "        s = item[:,:-1]+item[:,1:]\n",
    "        ss = s[:-1,:]+s[1:,:]\n",
    "        out += [ss/4]\n",
    "    return out"
   ]
  },
  {
   "cell_type": "code",
   "execution_count": 21,
   "id": "90344000",
   "metadata": {},
   "outputs": [],
   "source": [
    "def Differentiate_UV(lst):\n",
    "    out = []\n",
    "    for item in lst:\n",
    "        s =  item[1:,1:]-item[:-1,:-1]\n",
    "        out += [(s**2)**0.5]\n",
    "    return out"
   ]
  },
  {
   "cell_type": "code",
   "execution_count": 22,
   "id": "08176846",
   "metadata": {},
   "outputs": [],
   "source": [
    "def Extract_panels(objects,panels_):\n",
    "    #iterate on objects\n",
    "    for k in range(len(objects)):\n",
    "        \n",
    "        obj = objects[k]\n",
    "        # WORK ZONE _ACTIVE FOR DEVELOPPEMENT GET ALL DATA FROM OBJECT\n",
    "        n1,k1,Xmin1,Xmax1,regions,U1,V1,UU1,VV1,X1,Y1,Z1,XX1,YY1,ZZ1 = obj\n",
    "        #iterate on regions\n",
    "        for i in range(len(regions)):\n",
    "            if regions[i]=='s':\n",
    "                region1 = regions[i-1]\n",
    "                sym = -1\n",
    "                tag = 's'\n",
    "            else:\n",
    "                region1 = regions[i]\n",
    "                sym = 1\n",
    "                tag = ''\n",
    "            #Create center\n",
    "            CX,CY,CZ = Center_UV([X1,Y1,Z1])\n",
    "            [CX,CY,CZ] = [a.flatten() for a in [CX,CY,CZ]]\n",
    "            #Get information at center\n",
    "            X,BW,B,TC,T,D,BD,ZWD,DL4,BL4,DL3,DL1,BL3,BL2,BL1 = Interpolate_hull(U1,V1,Xmin1,Xmax1)\n",
    "            X,BW,B,TC,T,D,BD,ZWD,DL4,BL4,DL3,DL1,BL3,BL2,BL1 = Center_UV([X,BW,B,TC,T,D,BD,ZWD,DL4,BL4,DL3,DL1,BL3,BL2,BL1])\n",
    "            X,BW,B,TC,T,D,BD,ZWD,DL4,BL4,DL3,DL1,BL3,BL2,BL1 = [a.flatten() for a in [X,BW,B,TC,T,D,BD,ZWD,DL4,BL4,DL3,DL1,BL3,BL2,BL1]]\n",
    "            DX,DY,DZ = Differentiate_UV([X1,Y1,Z1])\n",
    "            DX,DY,DZ = [a.flatten() for a in [DX,DY,DZ]]\n",
    "            #Write Panel\n",
    "\n",
    "            #iterate on panels\n",
    "            for ind in range(len(X)):\n",
    "                L = len(panels_)\n",
    "                #L = L+1\n",
    "                panels_.loc[L+1,'Reference'] = 'obj' + str(k) +'-'+str(ind)+tag\n",
    "                panels_.loc[L+1,'Pos_elem'] = region1\n",
    "                panels_.loc[L+1,'x'] = CX[ind]\n",
    "                panels_.loc[L+1,'y'] = CY[ind]*sym\n",
    "                panels_.loc[L+1,'z'] = CZ[ind]\n",
    "                if (region1 == 'A') or (region1 == 'B') or (region1 == 'C') or (region1 == 'D') or (region1 == 'E'): \n",
    "                    panels_.loc[L+1,'ZWDAX'] = '-'\n",
    "                else:\n",
    "                    panels_.loc[L+1,'ZWDAX'] = ZWD[ind]\n",
    "                panels_.loc[L+1,'ZTx'] = T[ind]\n",
    "                panels_.loc[L+1,'ZQx_Pan'] = CZ[ind]\n",
    "                L1 = (DX[ind]**2)**(0.5)*1000\n",
    "                L2 = (DY[ind]**2 + DZ[ind]**2)**(0.5)*1000\n",
    "                if L1>L2:\n",
    "                        panels_.loc[L+1,'b'] = L2\n",
    "                        panels_.loc[L+1,'l'] = L1\n",
    "                        panels_.loc[L+1,'Orientation'] = 'b'\n",
    "                else:\n",
    "                        panels_.loc[L+1,'b'] = L1\n",
    "                        panels_.loc[L+1,'l'] = L2\n",
    "                        panels_.loc[L+1,'Orientation'] = 'l'\n",
    "                panels_.loc[L+1,'cb'] = 0\n",
    "                panels_.loc[L+1,'cl'] = 0\n",
    "                panels_.loc[L+1,'detail1'] = '-'\n",
    "                panels_.loc[L+1,'detail2'] = \"-\"\n",
    "\n",
    "    return panels_"
   ]
  },
  {
   "cell_type": "code",
   "execution_count": 23,
   "id": "d08c8504",
   "metadata": {},
   "outputs": [],
   "source": [
    "def Analyse_panels(bto,panels_):\n",
    "    sigmad = 102\n",
    "    \n",
    "    for i in range(len(panels_)):\n",
    "        #initiate\n",
    "        ele = panels_.loc[i+1]\n",
    "        #get panel characteristics\n",
    "        dim1 = panels_.loc[i+1,'l']\n",
    "        dim2 = panels_.loc[i+1,'b']\n",
    "        c1 = panels_.loc[i+1,'cl']\n",
    "        c2 = panels_.loc[i+1,'cb']\n",
    "        orientation = panels_.loc[i+1,'Orientation']\n",
    "        coef = kc(dim1,dim2,c1,c2)\n",
    "        k2b = k2(dim1,dim2,orientation)\n",
    "        #calculate pressures\n",
    "        D93,D95,D101,D5,D2,D9,D47,D48,D56,D41,D97,D103,D101 = Calculate_pressure_12215_7(bto,panels_.loc[i+1])\n",
    "        \n",
    "        if ele.Pos_elem == 'A':\n",
    "            panels_.loc[i+1,'P calc'] = D93\n",
    "            Thickness = tp(D95,dim2,coef,k2b,sigmad)\n",
    "            #write panel analysis\n",
    "            panels_.loc[i+1,'Thickness_min'] = Thickness\n",
    "            panels_.loc[i+1,'ZSTMX'] = D41\n",
    "            \n",
    "        if ele.Pos_elem == 'B':\n",
    "            panels_.loc[i+1,'P calc'] = D93\n",
    "            #write panel analysis\n",
    "            Thickness = tp(D95,dim2,coef,k2b,sigmad)\n",
    "            panels_.loc[i+1,'Thickness_min'] = Thickness\n",
    "            panels_.loc[i+1,'ZSTMX'] = D41\n",
    "\n",
    "        if ele.Pos_elem == 'C':\n",
    "            panels_.loc[i+1,'P calc'] = D95\n",
    "            #write panel analysis\n",
    "            Thickness = tp(D95,dim2,coef,k2b,sigmad)\n",
    "            panels_.loc[i+1,'Thickness_min'] = Thickness\n",
    "            panels_.loc[i+1,'ZSTMX'] = D41\n",
    "            \n",
    "        if ele.Pos_elem == 'D':\n",
    "            panels_.loc[i+1,'P calc'] = D103\n",
    "            #write panel analysis\n",
    "            Thickness = tp(D95,dim2,coef,k2b,sigmad)\n",
    "            panels_.loc[i+1,'Thickness_min'] = Thickness\n",
    "            panels_.loc[i+1,'ZSTMX'] = D41\n",
    "            \n",
    "        if ele.Pos_elem == 'E':\n",
    "            panels_.loc[i+1,'P calc'] = D97\n",
    "            #write panel analysis\n",
    "            Thickness = tp(D95,dim2,coef,k2b,sigmad)\n",
    "            panels_.loc[i+1,'Thickness_min'] = Thickness\n",
    "            panels_.loc[i+1,'ZSTMX'] = D41\n",
    "            \n",
    "        if ele.Pos_elem == 'F':\n",
    "            panels_.loc[i+1,'P calc'] = D97\n",
    "            #write panel analysis\n",
    "            Thickness = tp(D95,dim2,coef,k2b,sigmad)\n",
    "            panels_.loc[i+1,'Thickness_min'] = Thickness\n",
    "            panels_.loc[i+1,'ZSTMX'] = D41\n",
    "            \n",
    "        if ele.Pos_elem == 'G':\n",
    "            panels_.loc[i+1,'P calc'] = D101\n",
    "            #write panel analysis\n",
    "            Thickness = tp(D95,dim2,coef,k2b,sigmad)\n",
    "            panels_.loc[i+1,'Thickness_min'] = Thickness\n",
    "            panels_.loc[i+1,'ZSTMX'] = D41\n",
    "            \n",
    "        if ele.Pos_elem == 'H':\n",
    "            panels_.loc[i+1,'P calc'] = D101\n",
    "            #write panel analysis\n",
    "            Thickness = tp(D95,dim2,coef,k2b,sigmad)\n",
    "            panels_.loc[i+1,'Thickness_min'] = Thickness\n",
    "            panels_.loc[i+1,'ZSTMX'] = D41\n",
    "            \n",
    "        if ele.Pos_elem == 'I':\n",
    "            panels_.loc[i+1,'P calc'] = D101\n",
    "            #write panel analysis\n",
    "            Thickness = tp(D95,dim2,coef,k2b,sigmad)\n",
    "            panels_.loc[i+1,'Thickness_min'] = Thickness\n",
    "            panels_.loc[i+1,'ZSTMX'] = D41\n",
    "  \n",
    "    return panels_"
   ]
  },
  {
   "attachments": {
    "bandeau.PNG": {
     "image/png": "[encoded data removed]"
    }
   },
   "cell_type": "markdown",
   "id": "2d6d8bd6",
   "metadata": {},
   "source": [
    "![bandeau.PNG](attachment:bandeau.PNG)"
   ]
  },
  {
   "cell_type": "markdown",
   "id": "dbec1d1c",
   "metadata": {},
   "source": [
    "code : <b>A8663</b><br>\n",
    "date : <b>2023/05/31</b>"
   ]
  },
  {
   "cell_type": "markdown",
   "id": "43225ce1",
   "metadata": {},
   "source": [
    "# SANTORINI - ISO 12215 Assessment "
   ]
  },
  {
   "cell_type": "markdown",
   "id": "d9d5ff9b",
   "metadata": {},
   "source": [
    "## Content"
   ]
  },
  {
   "cell_type": "markdown",
   "id": "b6ad7ba3",
   "metadata": {},
   "source": [
    "Thicknesses of panels according to <b>ISO 12215-7:2019</b> <i>Small craft — Hull construction and scantlings — Part 7: Scantlings determination of multihulls</i> and <b>ISO 12215-5:2019</b> <i>Small craft — Hull construction and scantlings — Part 5: Design pressures for monohulls, design stresses, scantlings determination</i>"
   ]
  },
  {
   "cell_type": "markdown",
   "id": "c320c79b",
   "metadata": {},
   "source": [
    "## Inputs"
   ]
  },
  {
   "cell_type": "markdown",
   "id": "ce87c6c8",
   "metadata": {},
   "source": [
    "Dimensions are taken according to the 3D model <i> Santo Construction pour Alan.3dm</i>.\n",
    "Panel material is taken as being equivalent to <b>EN AW-5086</b>. The <b>welded</b> mechanical properties are used, according to <b>ISO 12215:2008</b> <i>Small craft - Hull construction and scantlings Part 5: Design pressures for monohulls, design stresses, scantlings determination</i>."
   ]
  },
  {
   "cell_type": "code",
   "execution_count": 24,
   "id": "4b9e71f2",
   "metadata": {},
   "outputs": [],
   "source": [
    "#initialize data\n",
    "objects = []\n",
    "data=[]"
   ]
  },
  {
   "cell_type": "code",
   "execution_count": 25,
   "id": "c1941bff",
   "metadata": {},
   "outputs": [],
   "source": [
    "#initialize panels\n",
    "dic_panels = ['Reference','Pos_elem','x','y','z','ZQx_Pan','ZWDAX','ZTx','ZSTMX','b','l','cb','cl','P calc','Orientation']\n",
    "panels_ = pd.DataFrame( columns = dic_panels)"
   ]
  },
  {
   "cell_type": "code",
   "execution_count": 26,
   "id": "94f26063",
   "metadata": {},
   "outputs": [],
   "source": [
    "#initialize materials\n",
    "dic_boat = ['Reference','Type','DesignCat','LWL','LWD','XWD','Tc','mLDC','BH','BCB','Bc','BBH','BWL','V','αWD','β04']\n",
    "boat=pd.DataFrame( columns = dic_boat)"
   ]
  },
  {
   "cell_type": "code",
   "execution_count": null,
   "id": "024c646b",
   "metadata": {},
   "outputs": [],
   "source": []
  },
  {
   "cell_type": "code",
   "execution_count": 52,
   "id": "f76002c7",
   "metadata": {},
   "outputs": [
    {
     "data": {
      "application/vnd.plotly.v1+json": {
       "config": {
        "plotlyServerURL": "https://plot.ly"
       },
       "data": [
        {
         "cells": {
          "fill": {
           "color": "#3ba7b3"
          },
          "font": {
           "color": "white"
          },
          "line": {
           "color": "white"
          },
          "values": [
           [
            "Santorini"
           ],
           [
            "Motor"
           ],
           [
            "A"
           ],
           [
            20
           ],
           [
            9.3
           ],
           [
            3.7
           ],
           [
            1.05
           ],
           [
            29000
           ],
           [
            7.374
           ],
           [
            5.675
           ],
           [
            1.6
           ],
           [
            4.31
           ],
           [
            1.6
           ],
           [
            12.5
           ],
           [
            30
           ],
           [
            15
           ]
          ]
         },
         "header": {
          "fill": {
           "color": "#b39732"
          },
          "font": {
           "color": "white"
          },
          "line": {
           "color": "white"
          },
          "values": [
           "Reference",
           "Type",
           "DesignCat",
           "LWL",
           "LWD",
           "XWD",
           "Tc",
           "mLDC",
           "BH",
           "BCB",
           "Bc",
           "BBH",
           "BWL",
           "V",
           "αWD",
           "β04"
          ]
         },
         "type": "table",
         "uid": "671fc5f7-064b-4863-9e7c-97c416f7ac1d"
        }
       ],
       "layout": {
        "height": 100,
        "margin": {
         "b": 0,
         "l": 0,
         "pad": 0,
         "r": 0,
         "t": 50
        },
        "template": {
         "data": {
          "bar": [
           {
            "error_x": {
             "color": "#2a3f5f"
            },
            "error_y": {
             "color": "#2a3f5f"
            },
            "marker": {
             "line": {
              "color": "#E5ECF6",
              "width": 0.5
             }
            },
            "type": "bar"
           }
          ],
          "barpolar": [
           {
            "marker": {
             "line": {
              "color": "#E5ECF6",
              "width": 0.5
             }
            },
            "type": "barpolar"
           }
          ],
          "carpet": [
           {
            "aaxis": {
             "endlinecolor": "#2a3f5f",
             "gridcolor": "white",
             "linecolor": "white",
             "minorgridcolor": "white",
             "startlinecolor": "#2a3f5f"
            },
            "baxis": {
             "endlinecolor": "#2a3f5f",
             "gridcolor": "white",
             "linecolor": "white",
             "minorgridcolor": "white",
             "startlinecolor": "#2a3f5f"
            },
            "type": "carpet"
           }
          ],
          "choropleth": [
           {
            "colorbar": {
             "outlinewidth": 0,
             "ticks": ""
            },
            "type": "choropleth"
           }
          ],
          "contour": [
           {
            "colorbar": {
             "outlinewidth": 0,
             "ticks": ""
            },
            "colorscale": [
             [
              0,
              "#0d0887"
             ],
             [
              0.1111111111111111,
              "#46039f"
             ],
             [
              0.2222222222222222,
              "#7201a8"
             ],
             [
              0.3333333333333333,
              "#9c179e"
             ],
             [
              0.4444444444444444,
              "#bd3786"
             ],
             [
              0.5555555555555556,
              "#d8576b"
             ],
             [
              0.6666666666666666,
              "#ed7953"
             ],
             [
              0.7777777777777778,
              "#fb9f3a"
             ],
             [
              0.8888888888888888,
              "#fdca26"
             ],
             [
              1,
              "#f0f921"
             ]
            ],
            "type": "contour"
           }
          ],
          "contourcarpet": [
           {
            "colorbar": {
             "outlinewidth": 0,
             "ticks": ""
            },
            "type": "contourcarpet"
           }
          ],
          "heatmap": [
           {
            "colorbar": {
             "outlinewidth": 0,
             "ticks": ""
            },
            "colorscale": [
             [
              0,
              "#0d0887"
             ],
             [
              0.1111111111111111,
              "#46039f"
             ],
             [
              0.2222222222222222,
              "#7201a8"
             ],
             [
              0.3333333333333333,
              "#9c179e"
             ],
             [
              0.4444444444444444,
              "#bd3786"
             ],
             [
              0.5555555555555556,
              "#d8576b"
             ],
             [
              0.6666666666666666,
              "#ed7953"
             ],
             [
              0.7777777777777778,
              "#fb9f3a"
             ],
             [
              0.8888888888888888,
              "#fdca26"
             ],
             [
              1,
              "#f0f921"
             ]
            ],
            "type": "heatmap"
           }
          ],
          "heatmapgl": [
           {
            "colorbar": {
             "outlinewidth": 0,
             "ticks": ""
            },
            "colorscale": [
             [
              0,
              "#0d0887"
             ],
             [
              0.1111111111111111,
              "#46039f"
             ],
             [
              0.2222222222222222,
              "#7201a8"
             ],
             [
              0.3333333333333333,
              "#9c179e"
             ],
             [
              0.4444444444444444,
              "#bd3786"
             ],
             [
              0.5555555555555556,
              "#d8576b"
             ],
             [
              0.6666666666666666,
              "#ed7953"
             ],
             [
              0.7777777777777778,
              "#fb9f3a"
             ],
             [
              0.8888888888888888,
              "#fdca26"
             ],
             [
              1,
              "#f0f921"
             ]
            ],
            "type": "heatmapgl"
           }
          ],
          "histogram": [
           {
            "marker": {
             "colorbar": {
              "outlinewidth": 0,
              "ticks": ""
             }
            },
            "type": "histogram"
           }
          ],
          "histogram2d": [
           {
            "colorbar": {
             "outlinewidth": 0,
             "ticks": ""
            },
            "colorscale": [
             [
              0,
              "#0d0887"
             ],
             [
              0.1111111111111111,
              "#46039f"
             ],
             [
              0.2222222222222222,
              "#7201a8"
             ],
             [
              0.3333333333333333,
              "#9c179e"
             ],
             [
              0.4444444444444444,
              "#bd3786"
             ],
             [
              0.5555555555555556,
              "#d8576b"
             ],
             [
              0.6666666666666666,
              "#ed7953"
             ],
             [
              0.7777777777777778,
              "#fb9f3a"
             ],
             [
              0.8888888888888888,
              "#fdca26"
             ],
             [
              1,
              "#f0f921"
             ]
            ],
            "type": "histogram2d"
           }
          ],
          "histogram2dcontour": [
           {
            "colorbar": {
             "outlinewidth": 0,
             "ticks": ""
            },
            "colorscale": [
             [
              0,
              "#0d0887"
             ],
             [
              0.1111111111111111,
              "#46039f"
             ],
             [
              0.2222222222222222,
              "#7201a8"
             ],
             [
              0.3333333333333333,
              "#9c179e"
             ],
             [
              0.4444444444444444,
              "#bd3786"
             ],
             [
              0.5555555555555556,
              "#d8576b"
             ],
             [
              0.6666666666666666,
              "#ed7953"
             ],
             [
              0.7777777777777778,
              "#fb9f3a"
             ],
             [
              0.8888888888888888,
              "#fdca26"
             ],
             [
              1,
              "#f0f921"
             ]
            ],
            "type": "histogram2dcontour"
           }
          ],
          "mesh3d": [
           {
            "colorbar": {
             "outlinewidth": 0,
             "ticks": ""
            },
            "type": "mesh3d"
           }
          ],
          "parcoords": [
           {
            "line": {
             "colorbar": {
              "outlinewidth": 0,
              "ticks": ""
             }
            },
            "type": "parcoords"
           }
          ],
          "pie": [
           {
            "automargin": true,
            "type": "pie"
           }
          ],
          "scatter": [
           {
            "marker": {
             "colorbar": {
              "outlinewidth": 0,
              "ticks": ""
             }
            },
            "type": "scatter"
           }
          ],
          "scatter3d": [
           {
            "line": {
             "colorbar": {
              "outlinewidth": 0,
              "ticks": ""
             }
            },
            "marker": {
             "colorbar": {
              "outlinewidth": 0,
              "ticks": ""
             }
            },
            "type": "scatter3d"
           }
          ],
          "scattercarpet": [
           {
            "marker": {
             "colorbar": {
              "outlinewidth": 0,
              "ticks": ""
             }
            },
            "type": "scattercarpet"
           }
          ],
          "scattergeo": [
           {
            "marker": {
             "colorbar": {
              "outlinewidth": 0,
              "ticks": ""
             }
            },
            "type": "scattergeo"
           }
          ],
          "scattergl": [
           {
            "marker": {
             "colorbar": {
              "outlinewidth": 0,
              "ticks": ""
             }
            },
            "type": "scattergl"
           }
          ],
          "scattermapbox": [
           {
            "marker": {
             "colorbar": {
              "outlinewidth": 0,
              "ticks": ""
             }
            },
            "type": "scattermapbox"
           }
          ],
          "scatterpolar": [
           {
            "marker": {
             "colorbar": {
              "outlinewidth": 0,
              "ticks": ""
             }
            },
            "type": "scatterpolar"
           }
          ],
          "scatterpolargl": [
           {
            "marker": {
             "colorbar": {
              "outlinewidth": 0,
              "ticks": ""
             }
            },
            "type": "scatterpolargl"
           }
          ],
          "scatterternary": [
           {
            "marker": {
             "colorbar": {
              "outlinewidth": 0,
              "ticks": ""
             }
            },
            "type": "scatterternary"
           }
          ],
          "surface": [
           {
            "colorbar": {
             "outlinewidth": 0,
             "ticks": ""
            },
            "colorscale": [
             [
              0,
              "#0d0887"
             ],
             [
              0.1111111111111111,
              "#46039f"
             ],
             [
              0.2222222222222222,
              "#7201a8"
             ],
             [
              0.3333333333333333,
              "#9c179e"
             ],
             [
              0.4444444444444444,
              "#bd3786"
             ],
             [
              0.5555555555555556,
              "#d8576b"
             ],
             [
              0.6666666666666666,
              "#ed7953"
             ],
             [
              0.7777777777777778,
              "#fb9f3a"
             ],
             [
              0.8888888888888888,
              "#fdca26"
             ],
             [
              1,
              "#f0f921"
             ]
            ],
            "type": "surface"
           }
          ],
          "table": [
           {
            "cells": {
             "fill": {
              "color": "#EBF0F8"
             },
             "line": {
              "color": "white"
             }
            },
            "header": {
             "fill": {
              "color": "#C8D4E3"
             },
             "line": {
              "color": "white"
             }
            },
            "type": "table"
           }
          ]
         },
         "layout": {
          "annotationdefaults": {
           "arrowcolor": "#2a3f5f",
           "arrowhead": 0,
           "arrowwidth": 1
          },
          "autotypenumbers": "strict",
          "coloraxis": {
           "colorbar": {
            "outlinewidth": 0,
            "ticks": ""
           }
          },
          "colorscale": {
           "diverging": [
            [
             0,
             "#8e0152"
            ],
            [
             0.1,
             "#c51b7d"
            ],
            [
             0.2,
             "#de77ae"
            ],
            [
             0.3,
             "#f1b6da"
            ],
            [
             0.4,
             "#fde0ef"
            ],
            [
             0.5,
             "#f7f7f7"
            ],
            [
             0.6,
             "#e6f5d0"
            ],
            [
             0.7,
             "#b8e186"
            ],
            [
             0.8,
             "#7fbc41"
            ],
            [
             0.9,
             "#4d9221"
            ],
            [
             1,
             "#276419"
            ]
           ],
           "sequential": [
            [
             0,
             "#0d0887"
            ],
            [
             0.1111111111111111,
             "#46039f"
            ],
            [
             0.2222222222222222,
             "#7201a8"
            ],
            [
             0.3333333333333333,
             "#9c179e"
            ],
            [
             0.4444444444444444,
             "#bd3786"
            ],
            [
             0.5555555555555556,
             "#d8576b"
            ],
            [
             0.6666666666666666,
             "#ed7953"
            ],
            [
             0.7777777777777778,
             "#fb9f3a"
            ],
            [
             0.8888888888888888,
             "#fdca26"
            ],
            [
             1,
             "#f0f921"
            ]
           ],
           "sequentialminus": [
            [
             0,
             "#0d0887"
            ],
            [
             0.1111111111111111,
             "#46039f"
            ],
            [
             0.2222222222222222,
             "#7201a8"
            ],
            [
             0.3333333333333333,
             "#9c179e"
            ],
            [
             0.4444444444444444,
             "#bd3786"
            ],
            [
             0.5555555555555556,
             "#d8576b"
            ],
            [
             0.6666666666666666,
             "#ed7953"
            ],
            [
             0.7777777777777778,
             "#fb9f3a"
            ],
            [
             0.8888888888888888,
             "#fdca26"
            ],
            [
             1,
             "#f0f921"
            ]
           ]
          },
          "colorway": [
           "#636efa",
           "#EF553B",
           "#00cc96",
           "#ab63fa",
           "#FFA15A",
           "#19d3f3",
           "#FF6692",
           "#B6E880",
           "#FF97FF",
           "#FECB52"
          ],
          "font": {
           "color": "#2a3f5f"
          },
          "geo": {
           "bgcolor": "white",
           "lakecolor": "white",
           "landcolor": "#E5ECF6",
           "showlakes": true,
           "showland": true,
           "subunitcolor": "white"
          },
          "hoverlabel": {
           "align": "left"
          },
          "hovermode": "closest",
          "mapbox": {
           "style": "light"
          },
          "paper_bgcolor": "white",
          "plot_bgcolor": "#E5ECF6",
          "polar": {
           "angularaxis": {
            "gridcolor": "white",
            "linecolor": "white",
            "ticks": ""
           },
           "bgcolor": "#E5ECF6",
           "radialaxis": {
            "gridcolor": "white",
            "linecolor": "white",
            "ticks": ""
           }
          },
          "scene": {
           "xaxis": {
            "backgroundcolor": "#E5ECF6",
            "gridcolor": "white",
            "gridwidth": 2,
            "linecolor": "white",
            "showbackground": true,
            "ticks": "",
            "zerolinecolor": "white"
           },
           "yaxis": {
            "backgroundcolor": "#E5ECF6",
            "gridcolor": "white",
            "gridwidth": 2,
            "linecolor": "white",
            "showbackground": true,
            "ticks": "",
            "zerolinecolor": "white"
           },
           "zaxis": {
            "backgroundcolor": "#E5ECF6",
            "gridcolor": "white",
            "gridwidth": 2,
            "linecolor": "white",
            "showbackground": true,
            "ticks": "",
            "zerolinecolor": "white"
           }
          },
          "shapedefaults": {
           "line": {
            "color": "#2a3f5f"
           }
          },
          "ternary": {
           "aaxis": {
            "gridcolor": "white",
            "linecolor": "white",
            "ticks": ""
           },
           "baxis": {
            "gridcolor": "white",
            "linecolor": "white",
            "ticks": ""
           },
           "bgcolor": "#E5ECF6",
           "caxis": {
            "gridcolor": "white",
            "linecolor": "white",
            "ticks": ""
           }
          },
          "title": {
           "x": 0.05
          },
          "xaxis": {
           "automargin": true,
           "gridcolor": "white",
           "linecolor": "white",
           "ticks": "",
           "title": {
            "standoff": 15
           },
           "zerolinecolor": "white",
           "zerolinewidth": 2
          },
          "yaxis": {
           "automargin": true,
           "gridcolor": "white",
           "linecolor": "white",
           "ticks": "",
           "title": {
            "standoff": 15
           },
           "zerolinecolor": "white",
           "zerolinewidth": 2
          }
         }
        },
        "title": {
         "text": "Boat dimensions"
        }
       }
      },
      "text/html": [
       "<div>                            <div id=\"476e7abd-4e2e-49dd-9c37-741843f19b58\" class=\"plotly-graph-div\" style=\"height:100px; width:100%;\"></div>            <script type=\"text/javascript\">                require([\"plotly\"], function(Plotly) {                    window.PLOTLYENV=window.PLOTLYENV || {};                                    if (document.getElementById(\"476e7abd-4e2e-49dd-9c37-741843f19b58\")) {                    Plotly.newPlot(                        \"476e7abd-4e2e-49dd-9c37-741843f19b58\",                        [{\"cells\": {\"fill\": {\"color\": \"#3ba7b3\"}, \"font\": {\"color\": \"white\"}, \"line\": {\"color\": \"white\"}, \"values\": [[\"Santorini\"], [\"Motor\"], [\"A\"], [20.0], [9.3], [3.7], [1.05], [29000], [7.374], [5.675], [1.6], [4.31], [1.6], [12.5], [30.0], [15.0]]}, \"header\": {\"fill\": {\"color\": \"#b39732\"}, \"font\": {\"color\": \"white\"}, \"line\": {\"color\": \"white\"}, \"values\": [\"Reference\", \"Type\", \"DesignCat\", \"LWL\", \"LWD\", \"XWD\", \"Tc\", \"mLDC\", \"BH\", \"BCB\", \"Bc\", \"BBH\", \"BWL\", \"V\", \"\\u03b1WD\", \"\\u03b204\"]}, \"type\": \"table\", \"uid\": \"671fc5f7-064b-4863-9e7c-97c416f7ac1d\"}],                        {\"height\": 100, \"margin\": {\"b\": 0, \"l\": 0, \"pad\": 0, \"r\": 0, \"t\": 50}, \"template\": {\"data\": {\"bar\": [{\"error_x\": {\"color\": \"#2a3f5f\"}, \"error_y\": {\"color\": \"#2a3f5f\"}, \"marker\": {\"line\": {\"color\": \"#E5ECF6\", \"width\": 0.5}}, \"type\": \"bar\"}], \"barpolar\": [{\"marker\": {\"line\": {\"color\": \"#E5ECF6\", \"width\": 0.5}}, \"type\": \"barpolar\"}], \"carpet\": [{\"aaxis\": {\"endlinecolor\": \"#2a3f5f\", \"gridcolor\": \"white\", \"linecolor\": \"white\", \"minorgridcolor\": \"white\", \"startlinecolor\": \"#2a3f5f\"}, \"baxis\": {\"endlinecolor\": \"#2a3f5f\", \"gridcolor\": \"white\", \"linecolor\": \"white\", \"minorgridcolor\": \"white\", \"startlinecolor\": \"#2a3f5f\"}, \"type\": \"carpet\"}], \"choropleth\": [{\"colorbar\": {\"outlinewidth\": 0, \"ticks\": \"\"}, \"type\": \"choropleth\"}], \"contour\": [{\"colorbar\": {\"outlinewidth\": 0, \"ticks\": \"\"}, \"colorscale\": [[0.0, \"#0d0887\"], [0.1111111111111111, \"#46039f\"], [0.2222222222222222, \"#7201a8\"], [0.3333333333333333, \"#9c179e\"], [0.4444444444444444, \"#bd3786\"], [0.5555555555555556, \"#d8576b\"], [0.6666666666666666, \"#ed7953\"], [0.7777777777777778, \"#fb9f3a\"], [0.8888888888888888, \"#fdca26\"], [1.0, \"#f0f921\"]], \"type\": \"contour\"}], \"contourcarpet\": [{\"colorbar\": {\"outlinewidth\": 0, \"ticks\": \"\"}, \"type\": \"contourcarpet\"}], \"heatmap\": [{\"colorbar\": {\"outlinewidth\": 0, \"ticks\": \"\"}, \"colorscale\": [[0.0, \"#0d0887\"], [0.1111111111111111, \"#46039f\"], [0.2222222222222222, \"#7201a8\"], [0.3333333333333333, \"#9c179e\"], [0.4444444444444444, \"#bd3786\"], [0.5555555555555556, \"#d8576b\"], [0.6666666666666666, \"#ed7953\"], [0.7777777777777778, \"#fb9f3a\"], [0.8888888888888888, \"#fdca26\"], [1.0, \"#f0f921\"]], \"type\": \"heatmap\"}], \"heatmapgl\": [{\"colorbar\": {\"outlinewidth\": 0, \"ticks\": \"\"}, \"colorscale\": [[0.0, \"#0d0887\"], [0.1111111111111111, \"#46039f\"], [0.2222222222222222, \"#7201a8\"], [0.3333333333333333, \"#9c179e\"], [0.4444444444444444, \"#bd3786\"], [0.5555555555555556, \"#d8576b\"], [0.6666666666666666, \"#ed7953\"], [0.7777777777777778, \"#fb9f3a\"], [0.8888888888888888, \"#fdca26\"], [1.0, \"#f0f921\"]], \"type\": \"heatmapgl\"}], \"histogram\": [{\"marker\": {\"colorbar\": {\"outlinewidth\": 0, \"ticks\": \"\"}}, \"type\": \"histogram\"}], \"histogram2d\": [{\"colorbar\": {\"outlinewidth\": 0, \"ticks\": \"\"}, \"colorscale\": [[0.0, \"#0d0887\"], [0.1111111111111111, \"#46039f\"], [0.2222222222222222, \"#7201a8\"], [0.3333333333333333, \"#9c179e\"], [0.4444444444444444, \"#bd3786\"], [0.5555555555555556, \"#d8576b\"], [0.6666666666666666, \"#ed7953\"], [0.7777777777777778, \"#fb9f3a\"], [0.8888888888888888, \"#fdca26\"], [1.0, \"#f0f921\"]], \"type\": \"histogram2d\"}], \"histogram2dcontour\": [{\"colorbar\": {\"outlinewidth\": 0, \"ticks\": \"\"}, \"colorscale\": [[0.0, \"#0d0887\"], [0.1111111111111111, \"#46039f\"], [0.2222222222222222, \"#7201a8\"], [0.3333333333333333, \"#9c179e\"], [0.4444444444444444, \"#bd3786\"], [0.5555555555555556, \"#d8576b\"], [0.6666666666666666, \"#ed7953\"], [0.7777777777777778, \"#fb9f3a\"], [0.8888888888888888, \"#fdca26\"], [1.0, \"#f0f921\"]], \"type\": \"histogram2dcontour\"}], \"mesh3d\": [{\"colorbar\": {\"outlinewidth\": 0, \"ticks\": \"\"}, \"type\": \"mesh3d\"}], \"parcoords\": [{\"line\": {\"colorbar\": {\"outlinewidth\": 0, \"ticks\": \"\"}}, \"type\": \"parcoords\"}], \"pie\": [{\"automargin\": true, \"type\": \"pie\"}], \"scatter\": [{\"marker\": {\"colorbar\": {\"outlinewidth\": 0, \"ticks\": \"\"}}, \"type\": \"scatter\"}], \"scatter3d\": [{\"line\": {\"colorbar\": {\"outlinewidth\": 0, \"ticks\": \"\"}}, \"marker\": {\"colorbar\": {\"outlinewidth\": 0, \"ticks\": \"\"}}, \"type\": \"scatter3d\"}], \"scattercarpet\": [{\"marker\": {\"colorbar\": {\"outlinewidth\": 0, \"ticks\": \"\"}}, \"type\": \"scattercarpet\"}], \"scattergeo\": [{\"marker\": {\"colorbar\": {\"outlinewidth\": 0, \"ticks\": \"\"}}, \"type\": \"scattergeo\"}], \"scattergl\": [{\"marker\": {\"colorbar\": {\"outlinewidth\": 0, \"ticks\": \"\"}}, \"type\": \"scattergl\"}], \"scattermapbox\": [{\"marker\": {\"colorbar\": {\"outlinewidth\": 0, \"ticks\": \"\"}}, \"type\": \"scattermapbox\"}], \"scatterpolar\": [{\"marker\": {\"colorbar\": {\"outlinewidth\": 0, \"ticks\": \"\"}}, \"type\": \"scatterpolar\"}], \"scatterpolargl\": [{\"marker\": {\"colorbar\": {\"outlinewidth\": 0, \"ticks\": \"\"}}, \"type\": \"scatterpolargl\"}], \"scatterternary\": [{\"marker\": {\"colorbar\": {\"outlinewidth\": 0, \"ticks\": \"\"}}, \"type\": \"scatterternary\"}], \"surface\": [{\"colorbar\": {\"outlinewidth\": 0, \"ticks\": \"\"}, \"colorscale\": [[0.0, \"#0d0887\"], [0.1111111111111111, \"#46039f\"], [0.2222222222222222, \"#7201a8\"], [0.3333333333333333, \"#9c179e\"], [0.4444444444444444, \"#bd3786\"], [0.5555555555555556, \"#d8576b\"], [0.6666666666666666, \"#ed7953\"], [0.7777777777777778, \"#fb9f3a\"], [0.8888888888888888, \"#fdca26\"], [1.0, \"#f0f921\"]], \"type\": \"surface\"}], \"table\": [{\"cells\": {\"fill\": {\"color\": \"#EBF0F8\"}, \"line\": {\"color\": \"white\"}}, \"header\": {\"fill\": {\"color\": \"#C8D4E3\"}, \"line\": {\"color\": \"white\"}}, \"type\": \"table\"}]}, \"layout\": {\"annotationdefaults\": {\"arrowcolor\": \"#2a3f5f\", \"arrowhead\": 0, \"arrowwidth\": 1}, \"autotypenumbers\": \"strict\", \"coloraxis\": {\"colorbar\": {\"outlinewidth\": 0, \"ticks\": \"\"}}, \"colorscale\": {\"diverging\": [[0, \"#8e0152\"], [0.1, \"#c51b7d\"], [0.2, \"#de77ae\"], [0.3, \"#f1b6da\"], [0.4, \"#fde0ef\"], [0.5, \"#f7f7f7\"], [0.6, \"#e6f5d0\"], [0.7, \"#b8e186\"], [0.8, \"#7fbc41\"], [0.9, \"#4d9221\"], [1, \"#276419\"]], \"sequential\": [[0.0, \"#0d0887\"], [0.1111111111111111, \"#46039f\"], [0.2222222222222222, \"#7201a8\"], [0.3333333333333333, \"#9c179e\"], [0.4444444444444444, \"#bd3786\"], [0.5555555555555556, \"#d8576b\"], [0.6666666666666666, \"#ed7953\"], [0.7777777777777778, \"#fb9f3a\"], [0.8888888888888888, \"#fdca26\"], [1.0, \"#f0f921\"]], \"sequentialminus\": [[0.0, \"#0d0887\"], [0.1111111111111111, \"#46039f\"], [0.2222222222222222, \"#7201a8\"], [0.3333333333333333, \"#9c179e\"], [0.4444444444444444, \"#bd3786\"], [0.5555555555555556, \"#d8576b\"], [0.6666666666666666, \"#ed7953\"], [0.7777777777777778, \"#fb9f3a\"], [0.8888888888888888, \"#fdca26\"], [1.0, \"#f0f921\"]]}, \"colorway\": [\"#636efa\", \"#EF553B\", \"#00cc96\", \"#ab63fa\", \"#FFA15A\", \"#19d3f3\", \"#FF6692\", \"#B6E880\", \"#FF97FF\", \"#FECB52\"], \"font\": {\"color\": \"#2a3f5f\"}, \"geo\": {\"bgcolor\": \"white\", \"lakecolor\": \"white\", \"landcolor\": \"#E5ECF6\", \"showlakes\": true, \"showland\": true, \"subunitcolor\": \"white\"}, \"hoverlabel\": {\"align\": \"left\"}, \"hovermode\": \"closest\", \"mapbox\": {\"style\": \"light\"}, \"paper_bgcolor\": \"white\", \"plot_bgcolor\": \"#E5ECF6\", \"polar\": {\"angularaxis\": {\"gridcolor\": \"white\", \"linecolor\": \"white\", \"ticks\": \"\"}, \"bgcolor\": \"#E5ECF6\", \"radialaxis\": {\"gridcolor\": \"white\", \"linecolor\": \"white\", \"ticks\": \"\"}}, \"scene\": {\"xaxis\": {\"backgroundcolor\": \"#E5ECF6\", \"gridcolor\": \"white\", \"gridwidth\": 2, \"linecolor\": \"white\", \"showbackground\": true, \"ticks\": \"\", \"zerolinecolor\": \"white\"}, \"yaxis\": {\"backgroundcolor\": \"#E5ECF6\", \"gridcolor\": \"white\", \"gridwidth\": 2, \"linecolor\": \"white\", \"showbackground\": true, \"ticks\": \"\", \"zerolinecolor\": \"white\"}, \"zaxis\": {\"backgroundcolor\": \"#E5ECF6\", \"gridcolor\": \"white\", \"gridwidth\": 2, \"linecolor\": \"white\", \"showbackground\": true, \"ticks\": \"\", \"zerolinecolor\": \"white\"}}, \"shapedefaults\": {\"line\": {\"color\": \"#2a3f5f\"}}, \"ternary\": {\"aaxis\": {\"gridcolor\": \"white\", \"linecolor\": \"white\", \"ticks\": \"\"}, \"baxis\": {\"gridcolor\": \"white\", \"linecolor\": \"white\", \"ticks\": \"\"}, \"bgcolor\": \"#E5ECF6\", \"caxis\": {\"gridcolor\": \"white\", \"linecolor\": \"white\", \"ticks\": \"\"}}, \"title\": {\"x\": 0.05}, \"xaxis\": {\"automargin\": true, \"gridcolor\": \"white\", \"linecolor\": \"white\", \"ticks\": \"\", \"title\": {\"standoff\": 15}, \"zerolinecolor\": \"white\", \"zerolinewidth\": 2}, \"yaxis\": {\"automargin\": true, \"gridcolor\": \"white\", \"linecolor\": \"white\", \"ticks\": \"\", \"title\": {\"standoff\": 15}, \"zerolinecolor\": \"white\", \"zerolinewidth\": 2}}}, \"title\": {\"text\": \"Boat dimensions\"}},                        {\"responsive\": true}                    ).then(function(){\n",
       "                            \n",
       "var gd = document.getElementById('476e7abd-4e2e-49dd-9c37-741843f19b58');\n",
       "var x = new MutationObserver(function (mutations, observer) {{\n",
       "        var display = window.getComputedStyle(gd).display;\n",
       "        if (!display || display === 'none') {{\n",
       "            console.log([gd, 'removed!']);\n",
       "            Plotly.purge(gd);\n",
       "            observer.disconnect();\n",
       "        }}\n",
       "}});\n",
       "\n",
       "// Listen for the removal of the full notebook cells\n",
       "var notebookContainer = gd.closest('#notebook-container');\n",
       "if (notebookContainer) {{\n",
       "    x.observe(notebookContainer, {childList: true});\n",
       "}}\n",
       "\n",
       "// Listen for the clearing of the current output cell\n",
       "var outputEl = gd.closest('.output');\n",
       "if (outputEl) {{\n",
       "    x.observe(outputEl, {childList: true});\n",
       "}}\n",
       "\n",
       "                        })                };                });            </script>        </div>"
      ]
     },
     "metadata": {},
     "output_type": "display_data"
    }
   ],
   "source": [
    "#define boat\n",
    "boat.loc[0] = ['Santorini','Motor','A',20.00,9.3,3.7,1.050,29000,7.374,5.675,1.6,4.31,1.6,12.5,30.,15.]\n",
    "res = boat\n",
    "trace5 = go.Table(\n",
    "    header=dict(values=res.columns,\n",
    "                fill_color='#b39732',\n",
    "                line_color='white',\n",
    "                font=dict(color='white'),\n",
    "                #align=['left','left','left','center','center','center'],\n",
    "               ),\n",
    "    cells=dict(#values=materiauTable.transpose().values.tolist(),\n",
    "                values = res.transpose().values.tolist(),\n",
    "                fill_color='#3ba7b3',\n",
    "                line_color='white',\n",
    "                font=dict(color='white'),\n",
    "                #align=['left','left','center'],\n",
    "                #format = [None,None,None,None],\n",
    "                ),\n",
    "    #columnwidth = [110,150,550]\n",
    "    )\n",
    "layout5 = go.Layout(title='Boat dimensions',\n",
    "                    #width=800,\n",
    "                    height=100,\n",
    "                    margin=dict(\n",
    "                                l=0,\n",
    "                                r=0,\n",
    "                                b=0,\n",
    "                                t=50,\n",
    "                                pad=0\n",
    "                                ),\n",
    "                   )\n",
    "boat_table = go.FigureWidget(data=[trace5], layout=layout5)\n",
    "#boat_table.show(renderer='notebook')\n",
    "boat_table.show()"
   ]
  },
  {
   "cell_type": "markdown",
   "id": "318b8bac",
   "metadata": {},
   "source": [
    "<b>LWL</b>  [m]    Length of waterline according to ISO 8666<br>\n",
    "<b>LWD</b>  [m]    Length of the wet deck measured parallel to LWL<br>\n",
    "<b>XWD</b>  [m]    Longitudinal distance between AP and the aft wetdeck station<br>\n",
    "<b>TC</b>   [m]    Max canoe body depth<br>\n",
    "<b>mLDC</b> [kg]   Mass of displacement in fully loaded condition according to ISO 8666<br>\n",
    "<b>BH</b>   [m]    Beam of hull<br>\n",
    "<b>BCB</b>  [m]    Beam between centres of buoyancy<br>\n",
    "<b>BC</b>   [m]    Chine beam<br>\n",
    "<b>BBH</b>  [m]    Beam between hull<br>\n",
    "<b>BWL</b>  [m]    Beam between hull<br>\n",
    "<b>V</b>    [kts]  Boat maximum speed in fully loaded condition (mLDC)<br>\n",
    "<b>αWD</b>  [deg]  Longitudinal angle of wet deck/crossbeam front<br>\n",
    "<b>β04</b>  [m]    Deadrise at 40% of LWL<br>"
   ]
  },
  {
   "cell_type": "code",
   "execution_count": 28,
   "id": "307aeb85",
   "metadata": {},
   "outputs": [],
   "source": [
    "# #CREATE LINKED OBJECT\n",
    "# obj1 = [1,9,0.0,20.0,['As','Bs','C','D']]\n",
    "# obj2 = [1,3,3.7,3.7+9.3,['F','G','H','I']]\n",
    "# out,obj1,obj2 = Link_object(obj1,obj2)\n",
    "# data +=out\n",
    "# #store\n",
    "# objects += [obj1]+[obj2]\n",
    "\n",
    "# # Multiple object management is not implemented \n",
    "# # To be implemented the same way as Generate_objects\n",
    "# # ---------------------------------------------------------------------------\n",
    "# # ValueError                                Traceback (most recent call last)\n",
    "# # <ipython-input-201-3dafb4cc1d68> in <module>\n",
    "# # ----> 1 Extract_panels(objects,panels_)\n",
    "# #       2 Analyse_panels(boat,panels_)\n",
    "\n",
    "# # <ipython-input-168-fd0afe649e8a> in Extract_panels(objects, panels_)\n",
    "# #       6         obj = objects[k]\n",
    "# #       7         # WORK ZONE _ACTIVE FOR DEVELOPPEMENT GET ALL DATA FROM OBJECT\n",
    "# # ----> 8         n1,k1,Xmin1,Xmax1,regions,U1,V1,UU1,VV1,X1,Y1,Z1,XX1,YY1,ZZ1 = obj\n",
    "# #       9 \n",
    "# #      10         #iterate on regions\n",
    "\n",
    "# # ValueError: not enough values to unpack (expected 15, got 5)\n",
    "\n"
   ]
  },
  {
   "cell_type": "code",
   "execution_count": 29,
   "id": "e3c8a76f",
   "metadata": {},
   "outputs": [],
   "source": [
    "#HULL\n",
    "#interpolations stations\n",
    "n = 1\n",
    "k = 1\n",
    "Xmin = 0 #minimum\n",
    "Xmax = 3.7 #maximum \n",
    "obj = [n,k,Xmin,Xmax,['As','Bs','C','D','E']]\n",
    "obj, out = Generate_object(obj)\n",
    "data += out\n",
    "objects += obj"
   ]
  },
  {
   "cell_type": "code",
   "execution_count": 30,
   "id": "80d132a3",
   "metadata": {},
   "outputs": [],
   "source": [
    "#HULL\n",
    "#interpolations stations\n",
    "n = 1\n",
    "k = 1\n",
    "Xmin = 3.7 #minimum\n",
    "Xmax = 6.0 #maximum \n",
    "obj = [n,k,Xmin,Xmax,['As','Bs','C','D','F']]\n",
    "obj, out = Generate_object(obj)\n",
    "data += out\n",
    "objects += obj"
   ]
  },
  {
   "cell_type": "code",
   "execution_count": 31,
   "id": "812c9907",
   "metadata": {},
   "outputs": [],
   "source": [
    "#HULL\n",
    "#interpolations stations\n",
    "n = 2\n",
    "k = 1\n",
    "Xmin = 6.0 #minimum\n",
    "Xmax = 8.3 #maximum \n",
    "obj = [n,k,Xmin,Xmax,['Bs','C','F']]\n",
    "obj, out = Generate_object(obj)\n",
    "data += out\n",
    "objects += obj"
   ]
  },
  {
   "cell_type": "code",
   "execution_count": 32,
   "id": "73066cd0",
   "metadata": {},
   "outputs": [],
   "source": [
    "#HULL\n",
    "#interpolations stations\n",
    "n = 1\n",
    "k = 1\n",
    "Xmin = 6.0 #minimum\n",
    "Xmax = 8.3 #maximum \n",
    "obj = [n,k,Xmin,Xmax,['As','D']]\n",
    "obj, out = Generate_object(obj)\n",
    "data += out\n",
    "objects += obj"
   ]
  },
  {
   "cell_type": "code",
   "execution_count": 33,
   "id": "e1f9b782",
   "metadata": {},
   "outputs": [],
   "source": [
    "#HULL\n",
    "#interpolations stations\n",
    "n = 1\n",
    "k = 1\n",
    "Xmin = 8.3 #minimum\n",
    "Xmax = 10.65 #maximum \n",
    "obj = [n,k,Xmin,Xmax,['As','Bs','C','D','F']]\n",
    "obj, out = Generate_object(obj)\n",
    "data += out\n",
    "objects += obj"
   ]
  },
  {
   "cell_type": "code",
   "execution_count": 34,
   "id": "edad4c67",
   "metadata": {},
   "outputs": [],
   "source": [
    "#HULL\n",
    "#interpolations stations\n",
    "n = 1\n",
    "k = 1\n",
    "Xmin = 10.65 #minimum\n",
    "Xmax = 12.1 #maximum \n",
    "obj = [n,k,Xmin,Xmax,['As','Bs','D']]\n",
    "obj, out = Generate_object(obj)\n",
    "data += out\n",
    "objects += obj"
   ]
  },
  {
   "cell_type": "code",
   "execution_count": 35,
   "id": "a37ede0b",
   "metadata": {},
   "outputs": [],
   "source": [
    "#HULL\n",
    "#interpolations stations\n",
    "n = 2\n",
    "k = 1\n",
    "Xmin = 10.65 #minimum\n",
    "Xmax = 12.1 #maximum \n",
    "obj = [n,k,Xmin,Xmax,['C','F']]\n",
    "obj, out = Generate_object(obj)\n",
    "data += out\n",
    "objects += obj"
   ]
  },
  {
   "cell_type": "code",
   "execution_count": 36,
   "id": "45177346",
   "metadata": {},
   "outputs": [],
   "source": [
    "#HULL\n",
    "#interpolations stations\n",
    "n = 1\n",
    "k = 1\n",
    "Xmin = 12.1 #minimum\n",
    "Xmax = 13.90 #maximum \n",
    "obj = [n,k,Xmin,Xmax,['As','Bs','D']]\n",
    "obj, out = Generate_object(obj)\n",
    "data += out\n",
    "objects += obj"
   ]
  },
  {
   "cell_type": "code",
   "execution_count": 37,
   "id": "72e3fdc2",
   "metadata": {},
   "outputs": [],
   "source": [
    "#HULL\n",
    "#interpolations stations\n",
    "n = 2\n",
    "k = 1\n",
    "Xmin = 12.1 #minimum\n",
    "Xmax = 13.90 #maximum \n",
    "obj = [n,k,Xmin,Xmax,['C','F']]\n",
    "obj, out = Generate_object(obj)\n",
    "data += out\n",
    "objects += obj"
   ]
  },
  {
   "cell_type": "code",
   "execution_count": 38,
   "id": "cd35cb21",
   "metadata": {},
   "outputs": [],
   "source": [
    "#HULL\n",
    "#interpolations stations\n",
    "n = 1\n",
    "k = 1\n",
    "Xmin = 13.90 #minimum\n",
    "Xmax = 15.90 #maximum \n",
    "obj = [n,k,Xmin,Xmax,['As','Bs','D']]\n",
    "obj, out = Generate_object(obj)\n",
    "data += out\n",
    "objects += obj"
   ]
  },
  {
   "cell_type": "code",
   "execution_count": 39,
   "id": "7670ee46",
   "metadata": {},
   "outputs": [],
   "source": [
    "#HULL\n",
    "#interpolations stations\n",
    "n = 2\n",
    "k = 1\n",
    "Xmin = 13.90 #minimum\n",
    "Xmax = 15.90 #maximum \n",
    "obj = [n,k,Xmin,Xmax,['C','E']]\n",
    "obj, out = Generate_object(obj)\n",
    "data += out\n",
    "objects += obj"
   ]
  },
  {
   "cell_type": "code",
   "execution_count": 40,
   "id": "354a4c84",
   "metadata": {},
   "outputs": [],
   "source": [
    "#HULL\n",
    "#interpolations stations\n",
    "n = 1\n",
    "k = 1\n",
    "Xmin = 15.90 #minimum\n",
    "Xmax = 19.0 #maximum \n",
    "obj = [n,k,Xmin,Xmax,['As','Bs','D']]\n",
    "obj, out = Generate_object(obj)\n",
    "data += out\n",
    "objects += obj"
   ]
  },
  {
   "cell_type": "code",
   "execution_count": 41,
   "id": "aabac529",
   "metadata": {},
   "outputs": [],
   "source": [
    "#HULL\n",
    "#interpolations stations\n",
    "n = 2\n",
    "k = 1\n",
    "Xmin = 15.90 #minimum\n",
    "Xmax = 19.0 #maximum \n",
    "obj = [n,k,Xmin,Xmax,['C','E']]\n",
    "obj, out = Generate_object(obj)\n",
    "data += out\n",
    "objects += obj"
   ]
  },
  {
   "cell_type": "code",
   "execution_count": 42,
   "id": "38bc473b",
   "metadata": {},
   "outputs": [
    {
     "name": "stderr",
     "output_type": "stream",
     "text": [
      "<ipython-input-12-0b21962a0d9f>:6: RuntimeWarning:\n",
      "\n",
      "divide by zero encountered in true_divide\n",
      "\n",
      "<ipython-input-14-ac938a520889>:4: RuntimeWarning:\n",
      "\n",
      "divide by zero encountered in true_divide\n",
      "\n"
     ]
    }
   ],
   "source": [
    "#HULL\n",
    "#interpolations stations\n",
    "n = 1\n",
    "k = 1\n",
    "Xmin = 3.7 #minimum\n",
    "Xmax = 6.0 #maximum \n",
    "obj = [n,k,Xmin,Xmax,['F','G','H','I']]\n",
    "obj, out = Generate_object(obj)\n",
    "data += out\n",
    "objects += obj"
   ]
  },
  {
   "cell_type": "code",
   "execution_count": 43,
   "id": "0e94764d",
   "metadata": {},
   "outputs": [],
   "source": [
    "#HULL\n",
    "#interpolations stations\n",
    "n = 1\n",
    "k = 1\n",
    "Xmin = 6.0 #minimum\n",
    "Xmax = 8.3 #maximum \n",
    "obj = [n,k,Xmin,Xmax,['F','G','H','I']]\n",
    "obj, out = Generate_object(obj)\n",
    "data += out\n",
    "objects += obj"
   ]
  },
  {
   "cell_type": "code",
   "execution_count": 44,
   "id": "531b1a52",
   "metadata": {},
   "outputs": [],
   "source": [
    "#HULL\n",
    "#interpolations stations\n",
    "n = 1\n",
    "k = 1\n",
    "Xmin = 8.3 #minimum\n",
    "Xmax = 10.65 #maximum \n",
    "obj = [n,k,Xmin,Xmax,['F','G','H','I']]\n",
    "obj, out = Generate_object(obj)\n",
    "data += out\n",
    "objects += obj"
   ]
  },
  {
   "cell_type": "code",
   "execution_count": 45,
   "id": "e4a6cda1",
   "metadata": {},
   "outputs": [],
   "source": [
    "#HULL\n",
    "#interpolations stations\n",
    "n = 1\n",
    "k = 1\n",
    "Xmin = 10.65 #minimum\n",
    "Xmax = 12.1 #maximum \n",
    "obj = [n,k,Xmin,Xmax,['F','G','H','I']]\n",
    "obj, out = Generate_object(obj)\n",
    "data += out\n",
    "objects += obj"
   ]
  },
  {
   "cell_type": "code",
   "execution_count": 46,
   "id": "ac451f02",
   "metadata": {},
   "outputs": [],
   "source": [
    "#HULL\n",
    "#interpolations stations\n",
    "n = 1\n",
    "k = 1\n",
    "Xmin = 12.1 #minimum\n",
    "Xmax = 13.90 #maximum \n",
    "obj = [n,k,Xmin,Xmax,['F','G','H','I']]\n",
    "obj, out = Generate_object(obj)\n",
    "data += out\n",
    "objects += obj"
   ]
  },
  {
   "cell_type": "markdown",
   "id": "772335d8",
   "metadata": {},
   "source": [
    "## Outputs"
   ]
  },
  {
   "cell_type": "markdown",
   "id": "b4a62bc6",
   "metadata": {},
   "source": [
    "Panels are defined in the following zones : <b>A</b> Bottom, <b>B</b> Bottom under waterline, <b>C</b> Outer Wall, <b>D</b> Deck, <b>E</b> Inner Wall outside wetdeck,  <b>F</b> Inner Wall in way of wetdeck,  <b>G,H,I</b> Wetdeck. The <b>design pressures</b> and the <b>minimum thicknesses</b> are calculated for each panel and reported down below (one panel per line, scroll to display all entries).  "
   ]
  },
  {
   "cell_type": "code",
   "execution_count": 47,
   "id": "45f0ecf8",
   "metadata": {},
   "outputs": [],
   "source": [
    "\n",
    "panels_ = Extract_panels(objects,panels_)\n",
    "panels_ = Analyse_panels(boat,panels_)"
   ]
  },
  {
   "cell_type": "code",
   "execution_count": 48,
   "id": "979b5b87",
   "metadata": {},
   "outputs": [
    {
     "data": {
      "application/vnd.plotly.v1+json": {
       "config": {
        "plotlyServerURL": "https://plot.ly"
       },
       "data": [
        {
         "cells": {
          "fill": {
           "color": "#3ba7b3"
          },
          "font": {
           "color": "white"
          },
          "format": [
           null,
           null,
           ".3f",
           ".3f",
           ".3f",
           ".3f",
           ".3f",
           ".3f",
           ".3f",
           ".0f",
           ".0f",
           ".0f",
           ".0f",
           ".1f",
           "",
           "",
           "",
           ".1f"
          ],
          "line": {
           "color": "white"
          },
          "values": [
           [
            "obj0-0",
            "obj0-0s",
            "obj1-0",
            "obj1-0s",
            "obj2-0",
            "obj3-0",
            "obj4-0",
            "obj5-0",
            "obj5-0s",
            "obj6-0",
            "obj6-0s",
            "obj7-0",
            "obj8-0",
            "obj9-0",
            "obj10-0",
            "obj10-1",
            "obj10-0s",
            "obj10-1s",
            "obj11-0",
            "obj11-1",
            "obj12-0",
            "obj12-1",
            "obj13-0",
            "obj13-0s",
            "obj14-0",
            "obj15-0",
            "obj15-0s",
            "obj16-0",
            "obj16-0s",
            "obj17-0",
            "obj18-0",
            "obj19-0",
            "obj20-0",
            "obj20-0s",
            "obj21-0",
            "obj21-0s",
            "obj22-0",
            "obj23-0",
            "obj23-1",
            "obj24-0",
            "obj24-1",
            "obj25-0",
            "obj25-0s",
            "obj26-0",
            "obj26-0s",
            "obj27-0",
            "obj28-0",
            "obj28-1",
            "obj29-0",
            "obj29-1",
            "obj30-0",
            "obj30-0s",
            "obj31-0",
            "obj31-0s",
            "obj32-0",
            "obj33-0",
            "obj33-1",
            "obj34-0",
            "obj34-1",
            "obj35-0",
            "obj35-0s",
            "obj36-0",
            "obj36-0s",
            "obj37-0",
            "obj38-0",
            "obj38-1",
            "obj39-0",
            "obj39-1",
            "obj40-0",
            "obj41-0",
            "obj42-0",
            "obj43-0",
            "obj44-0",
            "obj45-0",
            "obj46-0",
            "obj47-0",
            "obj48-0",
            "obj49-0",
            "obj50-0",
            "obj51-0",
            "obj52-0",
            "obj53-0",
            "obj54-0",
            "obj55-0",
            "obj56-0",
            "obj57-0",
            "obj58-0",
            "obj59-0"
           ],
           [
            "A",
            "A",
            "B",
            "B",
            "C",
            "D",
            "E",
            "A",
            "A",
            "B",
            "B",
            "C",
            "D",
            "F",
            "B",
            "B",
            "B",
            "B",
            "C",
            "C",
            "F",
            "F",
            "A",
            "A",
            "D",
            "A",
            "A",
            "B",
            "B",
            "C",
            "D",
            "F",
            "A",
            "A",
            "B",
            "B",
            "D",
            "C",
            "C",
            "F",
            "F",
            "A",
            "A",
            "B",
            "B",
            "D",
            "C",
            "C",
            "F",
            "F",
            "A",
            "A",
            "B",
            "B",
            "D",
            "C",
            "C",
            "E",
            "E",
            "A",
            "A",
            "B",
            "B",
            "D",
            "C",
            "C",
            "E",
            "E",
            "F",
            "G",
            "H",
            "I",
            "F",
            "G",
            "H",
            "I",
            "F",
            "G",
            "H",
            "I",
            "F",
            "G",
            "H",
            "I",
            "F",
            "G",
            "H",
            "I"
           ],
           [
            1.85,
            1.85,
            1.85,
            1.85,
            1.85,
            1.85,
            1.85,
            4.85,
            4.85,
            4.85,
            4.85,
            4.85,
            4.85,
            4.85,
            7.15,
            7.15,
            7.15,
            7.15,
            7.15,
            7.15,
            7.15,
            7.15,
            7.15,
            7.15,
            7.15,
            9.475000000000001,
            9.475000000000001,
            9.475000000000001,
            9.475000000000001,
            9.475000000000001,
            9.475000000000001,
            9.475000000000001,
            11.375,
            11.375,
            11.375,
            11.375,
            11.375,
            11.375,
            11.375,
            11.375,
            11.375,
            13,
            13,
            13,
            13,
            13,
            13,
            13,
            13,
            13,
            14.9,
            14.9,
            14.9,
            14.9,
            14.9,
            14.9,
            14.9,
            14.9,
            14.9,
            17.45,
            17.45,
            17.45,
            17.45,
            17.45,
            17.45,
            17.45,
            17.45,
            17.45,
            4.85,
            4.85,
            4.85,
            4.85,
            7.15,
            7.15,
            7.15,
            7.15,
            9.475000000000001,
            9.475000000000001,
            9.475000000000001,
            9.475000000000001,
            11.375,
            11.375,
            11.375,
            11.375,
            13,
            13,
            13,
            13
           ],
           [
            0.12824208875715348,
            -0.12824208875715348,
            0.28552748308295256,
            -0.28552748308295256,
            0.47090754010660857,
            0,
            -0.47090754010660857,
            0.2712599288589883,
            -0.2712599288589883,
            0.5812969042510071,
            -0.5812969042510071,
            0.6696168626661863,
            0,
            -0.6441955972500167,
            0.6012859497370738,
            0.621032610799951,
            -0.6012859497370738,
            -0.621032610799951,
            0.6604467028675309,
            0.7195282259398137,
            -0.6426761844647488,
            -0.6662166707314675,
            0.29570630960281763,
            -0.29570630960281763,
            0,
            0.2751109277096805,
            -0.2751109277096805,
            0.5649621002113312,
            -0.5649621002113312,
            0.6792395733689441,
            0,
            -0.6124624340384521,
            0.23228535639279074,
            -0.23228535639279074,
            0.511230883802303,
            -0.511230883802303,
            0,
            0.6157620011180627,
            0.7315038937161391,
            -0.573692263853669,
            -0.6052946819229581,
            0.19198137069128024,
            -0.19198137069128024,
            0.4606255254569322,
            -0.4606255254569322,
            0,
            0.5963780660476758,
            0.7145575790804196,
            -0.5667822415164381,
            -0.6257701054867064,
            0.15839063224746397,
            -0.15839063224746397,
            0.3815338128521074,
            -0.3815338128521074,
            0,
            0.5132667142775261,
            0.6472274204140045,
            -0.5132667142775261,
            -0.6472274204140045,
            0.08956044886337229,
            -0.08956044886337229,
            0.20158736562054824,
            -0.20158736562054824,
            0,
            0.2901891190999822,
            0.42245969027124286,
            -0.2901891190999822,
            -0.42245969027124286,
            -0.6441955972500167,
            -0.9750143997565086,
            -1.9629385133237767,
            -2.821736070884968,
            -0.6544464275981082,
            -1.1994600502468968,
            -2.0946842119200575,
            -2.706856383688983,
            -0.6124624340384521,
            -1.240850967978367,
            -2.1057464486706006,
            -2.665049676044161,
            -0.5894934728883136,
            -1.2095251901832178,
            -2.0753481520800987,
            -2.6547317768452565,
            -0.5962761735015722,
            -0.9779764127197119,
            -1.8285473645409827,
            -2.6565675067580763
           ],
           [
            -0.47207997773996824,
            -0.47207997773996824,
            -0.20962429012110792,
            -0.20962429012110792,
            0.6202929512553063,
            1.2405859025106125,
            0.6202929512553063,
            -0.6966098715642346,
            -0.6966098715642346,
            -0.27956924220450186,
            -0.27956924220450186,
            0.916600910731482,
            1.833201821462964,
            0.4288218666725735,
            -0.4632830467150376,
            -0.15442768223834583,
            -0.4632830467150376,
            -0.15442768223834583,
            0.4656855549913414,
            1.3970566649740241,
            0.18626170954053628,
            0.5587851286216088,
            -0.7954997986553987,
            -0.7954997986553987,
            1.8627422199653656,
            -0.823578660157646,
            -0.823578660157646,
            -0.3136498590715523,
            -0.3136498590715523,
            0.9286959127760332,
            1.8573918255520665,
            0.3148766643647144,
            -0.8107219873353179,
            -0.8107219873353179,
            -0.2976423309928927,
            -0.2976423309928927,
            1.8751138571575852,
            0.4687784642893963,
            1.406335392868189,
            0.1279129914750005,
            0.3837389744250015,
            -0.7773283950280339,
            -0.7773283950280339,
            -0.269168938351668,
            -0.269168938351668,
            1.9042016739970724,
            0.4760504184992681,
            1.4281512554978044,
            0.2349800768009398,
            0.7049402304028194,
            -0.699598092602292,
            -0.699598092602292,
            -0.22048600783477568,
            -0.22048600783477568,
            1.9166983297142104,
            0.4791745824285526,
            1.437523747285658,
            0.4791745824285526,
            1.437523747285658,
            -0.37861002907578584,
            -0.37861002907578584,
            -0.07215393317952838,
            -0.07215393317952838,
            1.9053656074183958,
            0.47634140185459894,
            1.4290242055637967,
            0.47634140185459894,
            1.4290242055637967,
            0.4288218666725735,
            0.9551294623068328,
            1.0526151912685187,
            0.9569468031954038,
            0.37252341908107256,
            0.9147620727508942,
            1.0844773073396432,
            0.8883622494255473,
            0.3148766643647144,
            0.8584753710092975,
            1.0871974132891662,
            0.8496357534321333,
            0.255825982950001,
            0.7797095275400574,
            1.0477670891801127,
            0.8269623247318084,
            0.4699601536018796,
            1.072910650062782,
            1.205900992921805,
            0.9236808756531667
           ],
           [
            -0.47207997773996824,
            -0.47207997773996824,
            -0.20962429012110792,
            -0.20962429012110792,
            0.6202929512553063,
            1.2405859025106125,
            0.6202929512553063,
            -0.6966098715642346,
            -0.6966098715642346,
            -0.27956924220450186,
            -0.27956924220450186,
            0.916600910731482,
            1.833201821462964,
            0.4288218666725735,
            -0.4632830467150376,
            -0.15442768223834583,
            -0.4632830467150376,
            -0.15442768223834583,
            0.4656855549913414,
            1.3970566649740241,
            0.18626170954053628,
            0.5587851286216088,
            -0.7954997986553987,
            -0.7954997986553987,
            1.8627422199653656,
            -0.823578660157646,
            -0.823578660157646,
            -0.3136498590715523,
            -0.3136498590715523,
            0.9286959127760332,
            1.8573918255520665,
            0.3148766643647144,
            -0.8107219873353179,
            -0.8107219873353179,
            -0.2976423309928927,
            -0.2976423309928927,
            1.8751138571575852,
            0.4687784642893963,
            1.406335392868189,
            0.1279129914750005,
            0.3837389744250015,
            -0.7773283950280339,
            -0.7773283950280339,
            -0.269168938351668,
            -0.269168938351668,
            1.9042016739970724,
            0.4760504184992681,
            1.4281512554978044,
            0.2349800768009398,
            0.7049402304028194,
            -0.699598092602292,
            -0.699598092602292,
            -0.22048600783477568,
            -0.22048600783477568,
            1.9166983297142104,
            0.4791745824285526,
            1.437523747285658,
            0.4791745824285526,
            1.437523747285658,
            -0.37861002907578584,
            -0.37861002907578584,
            -0.07215393317952838,
            -0.07215393317952838,
            1.9053656074183958,
            0.47634140185459894,
            1.4290242055637967,
            0.47634140185459894,
            1.4290242055637967,
            0.4288218666725735,
            0.9551294623068328,
            1.0526151912685187,
            0.9569468031954038,
            0.37252341908107256,
            0.9147620727508942,
            1.0844773073396432,
            0.8883622494255473,
            0.3148766643647144,
            0.8584753710092975,
            1.0871974132891662,
            0.8496357534321333,
            0.255825982950001,
            0.7797095275400574,
            1.0477670891801127,
            0.8269623247318084,
            0.4699601536018796,
            1.072910650062782,
            1.205900992921805,
            0.9236808756531667
           ],
           [
            "-",
            "-",
            "-",
            "-",
            "-",
            "-",
            "-",
            "-",
            "-",
            "-",
            "-",
            "-",
            "-",
            0.857643733345147,
            "-",
            "-",
            "-",
            "-",
            "-",
            "-",
            0.7450468381621451,
            0.7450468381621451,
            "-",
            "-",
            "-",
            "-",
            "-",
            "-",
            "-",
            "-",
            "-",
            0.6297533287294288,
            "-",
            "-",
            "-",
            "-",
            "-",
            "-",
            "-",
            0.511651965900002,
            0.511651965900002,
            "-",
            "-",
            "-",
            "-",
            "-",
            "-",
            "-",
            0.9399203072037592,
            0.9399203072037592,
            "-",
            "-",
            "-",
            "-",
            "-",
            "-",
            "-",
            "-",
            "-",
            "-",
            "-",
            "-",
            "-",
            "-",
            "-",
            "-",
            "-",
            "-",
            0.857643733345147,
            0.857643733345147,
            0.857643733345147,
            0.857643733345147,
            0.7450468381621451,
            0.7450468381621451,
            0.7450468381621451,
            0.7450468381621451,
            0.6297533287294288,
            0.6297533287294288,
            0.6297533287294288,
            0.6297533287294288,
            0.511651965900002,
            0.511651965900002,
            0.511651965900002,
            0.511651965900002,
            0.9399203072037592,
            0.9399203072037592,
            0.9399203072037592,
            0.9399203072037592
           ],
           [
            -0.5249113752377206,
            -0.5249113752377206,
            -0.5249113752377206,
            -0.5249113752377206,
            -0.5249113752377206,
            -0.5249113752377206,
            -0.5249113752377206,
            -0.8340812587194654,
            -0.8340812587194654,
            -0.8340812587194654,
            -0.8340812587194654,
            -0.8340812587194654,
            -0.8340812587194654,
            -0.8340812587194654,
            -0.9732888683574137,
            -0.9732888683574137,
            -0.9732888683574137,
            -0.9732888683574137,
            -0.9732888683574137,
            -0.9732888683574137,
            -0.9732888683574137,
            -0.9732888683574137,
            -0.9732888683574137,
            -0.9732888683574137,
            -0.9732888683574137,
            -1.0198576021721875,
            -1.0198576021721875,
            -1.0198576021721875,
            -1.0198576021721875,
            -1.0198576021721875,
            -1.0198576021721875,
            -1.0198576021721875,
            -1.0261593126848503,
            -1.0261593126848503,
            -1.0261593126848503,
            -1.0261593126848503,
            -1.0261593126848503,
            -1.0261593126848503,
            -1.0261593126848503,
            -1.0261593126848503,
            -1.0261593126848503,
            -1.0163189133527317,
            -1.0163189133527317,
            -1.0163189133527317,
            -1.0163189133527317,
            -1.0163189133527317,
            -1.0163189133527317,
            -1.0163189133527317,
            -1.0163189133527317,
            -1.0163189133527317,
            -0.9582241695350324,
            -0.9582241695350324,
            -0.9582241695350324,
            -0.9582241695350324,
            -0.9582241695350324,
            -0.9582241695350324,
            -0.9582241695350324,
            -0.9582241695350324,
            -0.9582241695350324,
            -0.6129121917925149,
            -0.6129121917925149,
            -0.6129121917925149,
            -0.6129121917925149,
            -0.6129121917925149,
            -0.6129121917925149,
            -0.6129121917925149,
            -0.6129121917925149,
            -0.6129121917925149,
            -0.8340812587194654,
            -0.8340812587194654,
            -0.8340812587194654,
            -0.8340812587194654,
            -0.9732888683574137,
            -0.9732888683574137,
            -0.9732888683574137,
            -0.9732888683574137,
            -1.0198576021721875,
            -1.0198576021721875,
            -1.0198576021721875,
            -1.0198576021721875,
            -1.0261593126848503,
            -1.0261593126848503,
            -1.0261593126848503,
            -1.0261593126848503,
            -1.0163189133527317,
            -1.0163189133527317,
            -1.0163189133527317,
            -1.0163189133527317
           ],
           [
            1.4345475,
            1.4345475,
            1.4345475,
            1.4345475,
            1.4345475,
            1.4345475,
            1.4345475,
            1.5375975,
            1.5375975,
            1.5375975,
            1.5375975,
            1.5375975,
            1.5375975,
            1.5375975,
            1.6166025,
            1.6166025,
            1.6166025,
            1.6166025,
            1.6166025,
            1.6166025,
            1.6166025,
            1.6166025,
            1.6166025,
            1.6166025,
            1.6166025,
            1.69646625,
            1.69646625,
            1.69646625,
            1.69646625,
            1.69646625,
            1.69646625,
            1.69646625,
            1.76173125,
            1.76173125,
            1.76173125,
            1.76173125,
            1.76173125,
            1.76173125,
            1.76173125,
            1.76173125,
            1.76173125,
            1.81755,
            1.81755,
            1.81755,
            1.81755,
            1.81755,
            1.81755,
            1.81755,
            1.81755,
            1.81755,
            1.882815,
            1.882815,
            1.882815,
            1.882815,
            1.882815,
            1.882815,
            1.882815,
            1.882815,
            1.882815,
            1.9704074999999999,
            1.9704074999999999,
            1.9704074999999999,
            1.9704074999999999,
            1.9704074999999999,
            1.9704074999999999,
            1.9704074999999999,
            1.9704074999999999,
            1.9704074999999999,
            1.5375975,
            1.5375975,
            1.5375975,
            1.5375975,
            1.6166025,
            1.6166025,
            1.6166025,
            1.6166025,
            1.69646625,
            1.69646625,
            1.69646625,
            1.69646625,
            1.76173125,
            1.76173125,
            1.76173125,
            1.76173125,
            1.81755,
            1.81755,
            1.81755,
            1.81755
           ],
           [
            536.5800839775097,
            536.5800839775097,
            647.7962491331886,
            647.7962491331886,
            1913.2799326244356,
            1675.8960835952744,
            1913.2799326244356,
            604.4066658971216,
            604.4066658971216,
            545.1579472118245,
            545.1579472118245,
            1876.2119712580775,
            1440.2207484226635,
            762.8516223661492,
            279.5132927080803,
            299.77704078375444,
            279.5132927080803,
            299.77704078375444,
            928.0035704949013,
            922.9878000910671,
            368.17570654450515,
            357.21139457298034,
            663.9350142726722,
            663.9350142726722,
            1498.2120362078372,
            642.4588850970079,
            642.4588850970079,
            638.4643444397218,
            638.4643444397218,
            1868.9639452733927,
            1557.5592553254917,
            525.0802634707147,
            620.2193190446282,
            620.2193190446282,
            619.4569836389919,
            619.4569836389919,
            1449.9999999999993,
            952.571618491813,
            967.7775649153688,
            251.42807581263827,
            238.1256693877876,
            625.6214875373918,
            625.6214875373918,
            580.8186811471862,
            580.8186811471862,
            1547.5289632115287,
            962.0190802716601,
            976.0603826029949,
            692.0277166956099,
            1136.4982741346125,
            691.90655218364,
            691.90655218364,
            504.3310275340456,
            504.3310275340456,
            1428.4168565424452,
            957.8964254815124,
            957.4282245982375,
            957.8964254815124,
            957.4282245982375,
            1001.2742627492304,
            1001.2742627492304,
            436.51331108401456,
            436.51331108401456,
            977.4098347156752,
            965.8948631854053,
            961.5143680326089,
            965.8948631854053,
            961.5143680326089,
            762.8516223661492,
            771.3495404137971,
            1787.0091877290542,
            282.44316975542193,
            734.8572989752126,
            1109.0770569072442,
            877.0132250390114,
            538.6134850022447,
            525.0802634707147,
            1115.2155853240956,
            634.6778743054127,
            683.8958292095704,
            502.5451879055681,
            1135.4126933261439,
            623.9523901612098,
            661.9756823090058,
            1387.5232338170404,
            890.8462028250858,
            802.2625854278028,
            615.0391950802518
           ],
           [
            3700,
            3700,
            3700,
            3700,
            3700,
            3700,
            3700,
            2300,
            2300,
            2300,
            2300,
            2300,
            2300,
            2300,
            2300.000000000001,
            2300.000000000001,
            2300.000000000001,
            2300.000000000001,
            2300.000000000001,
            2300.000000000001,
            2300.000000000001,
            2300.000000000001,
            2300.000000000001,
            2300.000000000001,
            2300.000000000001,
            2349.9999999999995,
            2349.9999999999995,
            2349.9999999999995,
            2349.9999999999995,
            2349.9999999999995,
            2349.9999999999995,
            2349.9999999999995,
            1449.9999999999993,
            1449.9999999999993,
            1449.9999999999993,
            1449.9999999999993,
            1579.0588955071316,
            1449.9999999999993,
            1449.9999999999993,
            1449.9999999999993,
            1449.9999999999993,
            1800.0000000000007,
            1800.0000000000007,
            1800.0000000000007,
            1800.0000000000007,
            1800.0000000000007,
            1800.0000000000007,
            1800.0000000000007,
            1800.0000000000007,
            1800.0000000000007,
            2000,
            2000,
            2000,
            2000,
            2000,
            2000,
            2000,
            2000,
            2000,
            3099.9999999999995,
            3099.9999999999995,
            3099.9999999999995,
            3099.9999999999995,
            3099.9999999999995,
            3099.9999999999995,
            3099.9999999999995,
            3099.9999999999995,
            3099.9999999999995,
            2300,
            2300,
            2300,
            2300,
            2300.000000000001,
            2300.000000000001,
            2300.000000000001,
            2300.000000000001,
            2349.9999999999995,
            2349.9999999999995,
            2349.9999999999995,
            2349.9999999999995,
            1449.9999999999993,
            1449.9999999999993,
            1449.9999999999993,
            1449.9999999999993,
            1800.0000000000007,
            1800.0000000000007,
            1800.0000000000007,
            1800.0000000000007
           ],
           [
            0,
            0,
            0,
            0,
            0,
            0,
            0,
            0,
            0,
            0,
            0,
            0,
            0,
            0,
            0,
            0,
            0,
            0,
            0,
            0,
            0,
            0,
            0,
            0,
            0,
            0,
            0,
            0,
            0,
            0,
            0,
            0,
            0,
            0,
            0,
            0,
            0,
            0,
            0,
            0,
            0,
            0,
            0,
            0,
            0,
            0,
            0,
            0,
            0,
            0,
            0,
            0,
            0,
            0,
            0,
            0,
            0,
            0,
            0,
            0,
            0,
            0,
            0,
            0,
            0,
            0,
            0,
            0,
            0,
            0,
            0,
            0,
            0,
            0,
            0,
            0,
            0,
            0,
            0,
            0,
            0,
            0,
            0,
            0,
            0,
            0,
            0,
            0
           ],
           [
            0,
            0,
            0,
            0,
            0,
            0,
            0,
            0,
            0,
            0,
            0,
            0,
            0,
            0,
            0,
            0,
            0,
            0,
            0,
            0,
            0,
            0,
            0,
            0,
            0,
            0,
            0,
            0,
            0,
            0,
            0,
            0,
            0,
            0,
            0,
            0,
            0,
            0,
            0,
            0,
            0,
            0,
            0,
            0,
            0,
            0,
            0,
            0,
            0,
            0,
            0,
            0,
            0,
            0,
            0,
            0,
            0,
            0,
            0,
            0,
            0,
            0,
            0,
            0,
            0,
            0,
            0,
            0,
            0,
            0,
            0,
            0,
            0,
            0,
            0,
            0,
            0,
            0,
            0,
            0,
            0,
            0,
            0,
            0,
            0,
            0,
            0,
            0
           ],
           [
            22.106613241374788,
            22.106613241374788,
            22.106613241374788,
            22.106613241374788,
            12.108665469549981,
            5,
            15.39174558458917,
            24.198871053989762,
            24.198871053989762,
            25.296007381072933,
            25.296007381072933,
            10.202738678899511,
            5,
            24.734071243638642,
            43.540707398978014,
            42.45300048595488,
            43.540707398978014,
            42.45300048595488,
            20.252733264469185,
            10.08402689837757,
            46.762053383841874,
            49.71371659735625,
            30.852300459937187,
            30.852300459937187,
            5.158326491758758,
            38.90348300115389,
            38.90348300115389,
            39.012072810757644,
            39.012072810757644,
            12.790597439119011,
            5.745574738290336,
            53.2121513460593,
            53.153918894221015,
            53.153918894221015,
            53.18278989923416,
            53.18278989923416,
            7.563311595538641,
            33.654759199889746,
            17.796401561602394,
            86.49004619636136,
            90.62820131801865,
            51.92226636715282,
            51.92226636715282,
            53.63649946948901,
            53.63649946948901,
            7.162289221937271,
            33.12184099141582,
            17.829572396429178,
            45.98867928020297,
            34.489657907438456,
            48.070032213397894,
            48.070032213397894,
            55.154779191657305,
            55.154779191657305,
            7.353438654003963,
            32.83860119460415,
            18.49509976121334,
            31.395936926272025,
            25.05524400420265,
            35.01545093683951,
            35.01545093683951,
            51.262710091458025,
            51.262710091458025,
            8.137096486308318,
            30.815997591605665,
            18.560529419841533,
            29.97331291853495,
            24.975505043109116,
            24.734071243638642,
            25.6094318656796,
            22.106613241374788,
            38.619917456789885,
            35.890013356532876,
            30.377842261587684,
            34.5384551276455,
            43.25930049340128,
            53.2121513460593,
            38.610502440721866,
            51.38028022979316,
            49.675370040295455,
            67.48122938336093,
            46.661879632254845,
            63.23271538428951,
            61.580697109717704,
            30.83746329104837,
            38.86170944892091,
            40.96666690171035,
            46.34524708029306
           ],
           [
            "b",
            "b",
            "b",
            "b",
            "b",
            "b",
            "b",
            "b",
            "b",
            "b",
            "b",
            "b",
            "b",
            "b",
            "b",
            "b",
            "b",
            "b",
            "b",
            "b",
            "b",
            "b",
            "b",
            "b",
            "b",
            "b",
            "b",
            "b",
            "b",
            "b",
            "b",
            "b",
            "b",
            "b",
            "b",
            "b",
            "l",
            "b",
            "b",
            "b",
            "b",
            "b",
            "b",
            "b",
            "b",
            "b",
            "b",
            "b",
            "b",
            "b",
            "b",
            "b",
            "b",
            "b",
            "b",
            "b",
            "b",
            "b",
            "b",
            "b",
            "b",
            "b",
            "b",
            "b",
            "b",
            "b",
            "b",
            "b",
            "b",
            "b",
            "b",
            "b",
            "b",
            "b",
            "b",
            "b",
            "b",
            "b",
            "b",
            "b",
            "b",
            "b",
            "b",
            "b",
            "b",
            "b",
            "b",
            "b"
           ],
           [
            "-",
            "-",
            "-",
            "-",
            "-",
            "-",
            "-",
            "-",
            "-",
            "-",
            "-",
            "-",
            "-",
            "-",
            "-",
            "-",
            "-",
            "-",
            "-",
            "-",
            "-",
            "-",
            "-",
            "-",
            "-",
            "-",
            "-",
            "-",
            "-",
            "-",
            "-",
            "-",
            "-",
            "-",
            "-",
            "-",
            "-",
            "-",
            "-",
            "-",
            "-",
            "-",
            "-",
            "-",
            "-",
            "-",
            "-",
            "-",
            "-",
            "-",
            "-",
            "-",
            "-",
            "-",
            "-",
            "-",
            "-",
            "-",
            "-",
            "-",
            "-",
            "-",
            "-",
            "-",
            "-",
            "-",
            "-",
            "-",
            "-",
            "-",
            "-",
            "-",
            "-",
            "-",
            "-",
            "-",
            "-",
            "-",
            "-",
            "-",
            "-",
            "-",
            "-",
            "-",
            "-",
            "-",
            "-",
            "-"
           ],
           [
            "-",
            "-",
            "-",
            "-",
            "-",
            "-",
            "-",
            "-",
            "-",
            "-",
            "-",
            "-",
            "-",
            "-",
            "-",
            "-",
            "-",
            "-",
            "-",
            "-",
            "-",
            "-",
            "-",
            "-",
            "-",
            "-",
            "-",
            "-",
            "-",
            "-",
            "-",
            "-",
            "-",
            "-",
            "-",
            "-",
            "-",
            "-",
            "-",
            "-",
            "-",
            "-",
            "-",
            "-",
            "-",
            "-",
            "-",
            "-",
            "-",
            "-",
            "-",
            "-",
            "-",
            "-",
            "-",
            "-",
            "-",
            "-",
            "-",
            "-",
            "-",
            "-",
            "-",
            "-",
            "-",
            "-",
            "-",
            "-",
            "-",
            "-",
            "-",
            "-",
            "-",
            "-",
            "-",
            "-",
            "-",
            "-",
            "-",
            "-",
            "-",
            "-",
            "-",
            "-",
            "-",
            "-",
            "-",
            "-"
           ],
           [
            5.525429727748202,
            5.525429727748202,
            6.307735672583508,
            6.307735672583508,
            14.58720604064531,
            9.596599244481032,
            14.58720604064531,
            6.572988220696845,
            6.572988220696845,
            5.951121484252547,
            5.951121484252547,
            11.68012049759603,
            6.86754444575218,
            7.065399106001782,
            4.02359088611376,
            4.1611456315026905,
            4.02359088611376,
            4.1611456315026905,
            9.243583434649622,
            6.487268232862024,
            4.718881665105527,
            4.297337631954573,
            8.148244958800982,
            8.148244958800982,
            7.189523132699769,
            8.851756131934373,
            8.851756131934373,
            8.597905911807429,
            8.597905911807429,
            13.179989648434207,
            7.852894965816477,
            6.84553747156112,
            9.985369239406259,
            9.985369239406259,
            9.733159265295955,
            9.733159265295955,
            7.044632107475378,
            11.65070382028807,
            8.571175716491513,
            4.507949932581808,
            4.146538551764369,
            9.950477115556904,
            9.950477115556904,
            9.159336993410353,
            9.159336993410353,
            7.861859658909685,
            12.09692923626869,
            8.991934615252504,
            9.944899308069136,
            12.672020739878937,
            10.58381702823327,
            10.58381702823327,
            8.071761395097562,
            8.071761395097562,
            7.965641109627841,
            12.149538297589125,
            9.11346357766045,
            12.149538297589125,
            9.11346357766045,
            13.072264133597688,
            13.072264133597688,
            6.799668838297529,
            6.799668838297529,
            6.666693612416445,
            11.867708464445363,
            9.168533058657829,
            11.867708464445363,
            9.168533058657829,
            7.065399106001782,
            6.174108277359859,
            10.897667454276057,
            2.765140835776374,
            7.899693751302218,
            9.332880015948728,
            7.379437943666068,
            5.4566980188892735,
            6.84553747156112,
            10.692835235032707,
            6.4860310962977685,
            7.4575053760533,
            7.76235181923401,
            11.60813412410634,
            7.62601651432041,
            8.558137516123606,
            14.30323132422707,
            9.955453987090042,
            8.758499667958482,
            7.869711717126246
           ]
          ]
         },
         "header": {
          "fill": {
           "color": "#b39732"
          },
          "font": {
           "color": "white"
          },
          "line": {
           "color": "white"
          },
          "values": [
           "Reference",
           "Pos_elem",
           "x",
           "y",
           "z",
           "ZQx_Pan",
           "ZWDAX",
           "ZTx",
           "ZSTMX",
           "b",
           "l",
           "cb",
           "cl",
           "P calc",
           "Orientation",
           "detail1",
           "detail2",
           "Thickness_min"
          ]
         },
         "type": "table",
         "uid": "17d37417-87a9-421a-a7e7-7f5d5cc6b243"
        }
       ],
       "layout": {
        "height": 500,
        "margin": {
         "b": 0,
         "l": 0,
         "pad": 0,
         "r": 0,
         "t": 50
        },
        "template": {
         "data": {
          "bar": [
           {
            "error_x": {
             "color": "#2a3f5f"
            },
            "error_y": {
             "color": "#2a3f5f"
            },
            "marker": {
             "line": {
              "color": "#E5ECF6",
              "width": 0.5
             }
            },
            "type": "bar"
           }
          ],
          "barpolar": [
           {
            "marker": {
             "line": {
              "color": "#E5ECF6",
              "width": 0.5
             }
            },
            "type": "barpolar"
           }
          ],
          "carpet": [
           {
            "aaxis": {
             "endlinecolor": "#2a3f5f",
             "gridcolor": "white",
             "linecolor": "white",
             "minorgridcolor": "white",
             "startlinecolor": "#2a3f5f"
            },
            "baxis": {
             "endlinecolor": "#2a3f5f",
             "gridcolor": "white",
             "linecolor": "white",
             "minorgridcolor": "white",
             "startlinecolor": "#2a3f5f"
            },
            "type": "carpet"
           }
          ],
          "choropleth": [
           {
            "colorbar": {
             "outlinewidth": 0,
             "ticks": ""
            },
            "type": "choropleth"
           }
          ],
          "contour": [
           {
            "colorbar": {
             "outlinewidth": 0,
             "ticks": ""
            },
            "colorscale": [
             [
              0,
              "#0d0887"
             ],
             [
              0.1111111111111111,
              "#46039f"
             ],
             [
              0.2222222222222222,
              "#7201a8"
             ],
             [
              0.3333333333333333,
              "#9c179e"
             ],
             [
              0.4444444444444444,
              "#bd3786"
             ],
             [
              0.5555555555555556,
              "#d8576b"
             ],
             [
              0.6666666666666666,
              "#ed7953"
             ],
             [
              0.7777777777777778,
              "#fb9f3a"
             ],
             [
              0.8888888888888888,
              "#fdca26"
             ],
             [
              1,
              "#f0f921"
             ]
            ],
            "type": "contour"
           }
          ],
          "contourcarpet": [
           {
            "colorbar": {
             "outlinewidth": 0,
             "ticks": ""
            },
            "type": "contourcarpet"
           }
          ],
          "heatmap": [
           {
            "colorbar": {
             "outlinewidth": 0,
             "ticks": ""
            },
            "colorscale": [
             [
              0,
              "#0d0887"
             ],
             [
              0.1111111111111111,
              "#46039f"
             ],
             [
              0.2222222222222222,
              "#7201a8"
             ],
             [
              0.3333333333333333,
              "#9c179e"
             ],
             [
              0.4444444444444444,
              "#bd3786"
             ],
             [
              0.5555555555555556,
              "#d8576b"
             ],
             [
              0.6666666666666666,
              "#ed7953"
             ],
             [
              0.7777777777777778,
              "#fb9f3a"
             ],
             [
              0.8888888888888888,
              "#fdca26"
             ],
             [
              1,
              "#f0f921"
             ]
            ],
            "type": "heatmap"
           }
          ],
          "heatmapgl": [
           {
            "colorbar": {
             "outlinewidth": 0,
             "ticks": ""
            },
            "colorscale": [
             [
              0,
              "#0d0887"
             ],
             [
              0.1111111111111111,
              "#46039f"
             ],
             [
              0.2222222222222222,
              "#7201a8"
             ],
             [
              0.3333333333333333,
              "#9c179e"
             ],
             [
              0.4444444444444444,
              "#bd3786"
             ],
             [
              0.5555555555555556,
              "#d8576b"
             ],
             [
              0.6666666666666666,
              "#ed7953"
             ],
             [
              0.7777777777777778,
              "#fb9f3a"
             ],
             [
              0.8888888888888888,
              "#fdca26"
             ],
             [
              1,
              "#f0f921"
             ]
            ],
            "type": "heatmapgl"
           }
          ],
          "histogram": [
           {
            "marker": {
             "colorbar": {
              "outlinewidth": 0,
              "ticks": ""
             }
            },
            "type": "histogram"
           }
          ],
          "histogram2d": [
           {
            "colorbar": {
             "outlinewidth": 0,
             "ticks": ""
            },
            "colorscale": [
             [
              0,
              "#0d0887"
             ],
             [
              0.1111111111111111,
              "#46039f"
             ],
             [
              0.2222222222222222,
              "#7201a8"
             ],
             [
              0.3333333333333333,
              "#9c179e"
             ],
             [
              0.4444444444444444,
              "#bd3786"
             ],
             [
              0.5555555555555556,
              "#d8576b"
             ],
             [
              0.6666666666666666,
              "#ed7953"
             ],
             [
              0.7777777777777778,
              "#fb9f3a"
             ],
             [
              0.8888888888888888,
              "#fdca26"
             ],
             [
              1,
              "#f0f921"
             ]
            ],
            "type": "histogram2d"
           }
          ],
          "histogram2dcontour": [
           {
            "colorbar": {
             "outlinewidth": 0,
             "ticks": ""
            },
            "colorscale": [
             [
              0,
              "#0d0887"
             ],
             [
              0.1111111111111111,
              "#46039f"
             ],
             [
              0.2222222222222222,
              "#7201a8"
             ],
             [
              0.3333333333333333,
              "#9c179e"
             ],
             [
              0.4444444444444444,
              "#bd3786"
             ],
             [
              0.5555555555555556,
              "#d8576b"
             ],
             [
              0.6666666666666666,
              "#ed7953"
             ],
             [
              0.7777777777777778,
              "#fb9f3a"
             ],
             [
              0.8888888888888888,
              "#fdca26"
             ],
             [
              1,
              "#f0f921"
             ]
            ],
            "type": "histogram2dcontour"
           }
          ],
          "mesh3d": [
           {
            "colorbar": {
             "outlinewidth": 0,
             "ticks": ""
            },
            "type": "mesh3d"
           }
          ],
          "parcoords": [
           {
            "line": {
             "colorbar": {
              "outlinewidth": 0,
              "ticks": ""
             }
            },
            "type": "parcoords"
           }
          ],
          "pie": [
           {
            "automargin": true,
            "type": "pie"
           }
          ],
          "scatter": [
           {
            "marker": {
             "colorbar": {
              "outlinewidth": 0,
              "ticks": ""
             }
            },
            "type": "scatter"
           }
          ],
          "scatter3d": [
           {
            "line": {
             "colorbar": {
              "outlinewidth": 0,
              "ticks": ""
             }
            },
            "marker": {
             "colorbar": {
              "outlinewidth": 0,
              "ticks": ""
             }
            },
            "type": "scatter3d"
           }
          ],
          "scattercarpet": [
           {
            "marker": {
             "colorbar": {
              "outlinewidth": 0,
              "ticks": ""
             }
            },
            "type": "scattercarpet"
           }
          ],
          "scattergeo": [
           {
            "marker": {
             "colorbar": {
              "outlinewidth": 0,
              "ticks": ""
             }
            },
            "type": "scattergeo"
           }
          ],
          "scattergl": [
           {
            "marker": {
             "colorbar": {
              "outlinewidth": 0,
              "ticks": ""
             }
            },
            "type": "scattergl"
           }
          ],
          "scattermapbox": [
           {
            "marker": {
             "colorbar": {
              "outlinewidth": 0,
              "ticks": ""
             }
            },
            "type": "scattermapbox"
           }
          ],
          "scatterpolar": [
           {
            "marker": {
             "colorbar": {
              "outlinewidth": 0,
              "ticks": ""
             }
            },
            "type": "scatterpolar"
           }
          ],
          "scatterpolargl": [
           {
            "marker": {
             "colorbar": {
              "outlinewidth": 0,
              "ticks": ""
             }
            },
            "type": "scatterpolargl"
           }
          ],
          "scatterternary": [
           {
            "marker": {
             "colorbar": {
              "outlinewidth": 0,
              "ticks": ""
             }
            },
            "type": "scatterternary"
           }
          ],
          "surface": [
           {
            "colorbar": {
             "outlinewidth": 0,
             "ticks": ""
            },
            "colorscale": [
             [
              0,
              "#0d0887"
             ],
             [
              0.1111111111111111,
              "#46039f"
             ],
             [
              0.2222222222222222,
              "#7201a8"
             ],
             [
              0.3333333333333333,
              "#9c179e"
             ],
             [
              0.4444444444444444,
              "#bd3786"
             ],
             [
              0.5555555555555556,
              "#d8576b"
             ],
             [
              0.6666666666666666,
              "#ed7953"
             ],
             [
              0.7777777777777778,
              "#fb9f3a"
             ],
             [
              0.8888888888888888,
              "#fdca26"
             ],
             [
              1,
              "#f0f921"
             ]
            ],
            "type": "surface"
           }
          ],
          "table": [
           {
            "cells": {
             "fill": {
              "color": "#EBF0F8"
             },
             "line": {
              "color": "white"
             }
            },
            "header": {
             "fill": {
              "color": "#C8D4E3"
             },
             "line": {
              "color": "white"
             }
            },
            "type": "table"
           }
          ]
         },
         "layout": {
          "annotationdefaults": {
           "arrowcolor": "#2a3f5f",
           "arrowhead": 0,
           "arrowwidth": 1
          },
          "autotypenumbers": "strict",
          "coloraxis": {
           "colorbar": {
            "outlinewidth": 0,
            "ticks": ""
           }
          },
          "colorscale": {
           "diverging": [
            [
             0,
             "#8e0152"
            ],
            [
             0.1,
             "#c51b7d"
            ],
            [
             0.2,
             "#de77ae"
            ],
            [
             0.3,
             "#f1b6da"
            ],
            [
             0.4,
             "#fde0ef"
            ],
            [
             0.5,
             "#f7f7f7"
            ],
            [
             0.6,
             "#e6f5d0"
            ],
            [
             0.7,
             "#b8e186"
            ],
            [
             0.8,
             "#7fbc41"
            ],
            [
             0.9,
             "#4d9221"
            ],
            [
             1,
             "#276419"
            ]
           ],
           "sequential": [
            [
             0,
             "#0d0887"
            ],
            [
             0.1111111111111111,
             "#46039f"
            ],
            [
             0.2222222222222222,
             "#7201a8"
            ],
            [
             0.3333333333333333,
             "#9c179e"
            ],
            [
             0.4444444444444444,
             "#bd3786"
            ],
            [
             0.5555555555555556,
             "#d8576b"
            ],
            [
             0.6666666666666666,
             "#ed7953"
            ],
            [
             0.7777777777777778,
             "#fb9f3a"
            ],
            [
             0.8888888888888888,
             "#fdca26"
            ],
            [
             1,
             "#f0f921"
            ]
           ],
           "sequentialminus": [
            [
             0,
             "#0d0887"
            ],
            [
             0.1111111111111111,
             "#46039f"
            ],
            [
             0.2222222222222222,
             "#7201a8"
            ],
            [
             0.3333333333333333,
             "#9c179e"
            ],
            [
             0.4444444444444444,
             "#bd3786"
            ],
            [
             0.5555555555555556,
             "#d8576b"
            ],
            [
             0.6666666666666666,
             "#ed7953"
            ],
            [
             0.7777777777777778,
             "#fb9f3a"
            ],
            [
             0.8888888888888888,
             "#fdca26"
            ],
            [
             1,
             "#f0f921"
            ]
           ]
          },
          "colorway": [
           "#636efa",
           "#EF553B",
           "#00cc96",
           "#ab63fa",
           "#FFA15A",
           "#19d3f3",
           "#FF6692",
           "#B6E880",
           "#FF97FF",
           "#FECB52"
          ],
          "font": {
           "color": "#2a3f5f"
          },
          "geo": {
           "bgcolor": "white",
           "lakecolor": "white",
           "landcolor": "#E5ECF6",
           "showlakes": true,
           "showland": true,
           "subunitcolor": "white"
          },
          "hoverlabel": {
           "align": "left"
          },
          "hovermode": "closest",
          "mapbox": {
           "style": "light"
          },
          "paper_bgcolor": "white",
          "plot_bgcolor": "#E5ECF6",
          "polar": {
           "angularaxis": {
            "gridcolor": "white",
            "linecolor": "white",
            "ticks": ""
           },
           "bgcolor": "#E5ECF6",
           "radialaxis": {
            "gridcolor": "white",
            "linecolor": "white",
            "ticks": ""
           }
          },
          "scene": {
           "xaxis": {
            "backgroundcolor": "#E5ECF6",
            "gridcolor": "white",
            "gridwidth": 2,
            "linecolor": "white",
            "showbackground": true,
            "ticks": "",
            "zerolinecolor": "white"
           },
           "yaxis": {
            "backgroundcolor": "#E5ECF6",
            "gridcolor": "white",
            "gridwidth": 2,
            "linecolor": "white",
            "showbackground": true,
            "ticks": "",
            "zerolinecolor": "white"
           },
           "zaxis": {
            "backgroundcolor": "#E5ECF6",
            "gridcolor": "white",
            "gridwidth": 2,
            "linecolor": "white",
            "showbackground": true,
            "ticks": "",
            "zerolinecolor": "white"
           }
          },
          "shapedefaults": {
           "line": {
            "color": "#2a3f5f"
           }
          },
          "ternary": {
           "aaxis": {
            "gridcolor": "white",
            "linecolor": "white",
            "ticks": ""
           },
           "baxis": {
            "gridcolor": "white",
            "linecolor": "white",
            "ticks": ""
           },
           "bgcolor": "#E5ECF6",
           "caxis": {
            "gridcolor": "white",
            "linecolor": "white",
            "ticks": ""
           }
          },
          "title": {
           "x": 0.05
          },
          "xaxis": {
           "automargin": true,
           "gridcolor": "white",
           "linecolor": "white",
           "ticks": "",
           "title": {
            "standoff": 15
           },
           "zerolinecolor": "white",
           "zerolinewidth": 2
          },
          "yaxis": {
           "automargin": true,
           "gridcolor": "white",
           "linecolor": "white",
           "ticks": "",
           "title": {
            "standoff": 15
           },
           "zerolinecolor": "white",
           "zerolinewidth": 2
          }
         }
        },
        "title": {
         "text": "ISO 12215 Panel Analysis"
        }
       }
      },
      "text/html": [
       "<div>                            <div id=\"d28cbf88-e1c9-4515-9ff1-1db2489c7584\" class=\"plotly-graph-div\" style=\"height:500px; width:100%;\"></div>            <script type=\"text/javascript\">                require([\"plotly\"], function(Plotly) {                    window.PLOTLYENV=window.PLOTLYENV || {};                                    if (document.getElementById(\"d28cbf88-e1c9-4515-9ff1-1db2489c7584\")) {                    Plotly.newPlot(                        \"d28cbf88-e1c9-4515-9ff1-1db2489c7584\",                        [{\"cells\": {\"fill\": {\"color\": \"#3ba7b3\"}, \"font\": {\"color\": \"white\"}, \"format\": [null, null, \".3f\", \".3f\", \".3f\", \".3f\", \".3f\", \".3f\", \".3f\", \".0f\", \".0f\", \".0f\", \".0f\", \".1f\", \"\", \"\", \"\", \".1f\"], \"line\": {\"color\": \"white\"}, \"values\": [[\"obj0-0\", \"obj0-0s\", \"obj1-0\", \"obj1-0s\", \"obj2-0\", \"obj3-0\", \"obj4-0\", \"obj5-0\", \"obj5-0s\", \"obj6-0\", \"obj6-0s\", \"obj7-0\", \"obj8-0\", \"obj9-0\", \"obj10-0\", \"obj10-1\", \"obj10-0s\", \"obj10-1s\", \"obj11-0\", \"obj11-1\", \"obj12-0\", \"obj12-1\", \"obj13-0\", \"obj13-0s\", \"obj14-0\", \"obj15-0\", \"obj15-0s\", \"obj16-0\", \"obj16-0s\", \"obj17-0\", \"obj18-0\", \"obj19-0\", \"obj20-0\", \"obj20-0s\", \"obj21-0\", \"obj21-0s\", \"obj22-0\", \"obj23-0\", \"obj23-1\", \"obj24-0\", \"obj24-1\", \"obj25-0\", \"obj25-0s\", \"obj26-0\", \"obj26-0s\", \"obj27-0\", \"obj28-0\", \"obj28-1\", \"obj29-0\", \"obj29-1\", \"obj30-0\", \"obj30-0s\", \"obj31-0\", \"obj31-0s\", \"obj32-0\", \"obj33-0\", \"obj33-1\", \"obj34-0\", \"obj34-1\", \"obj35-0\", \"obj35-0s\", \"obj36-0\", \"obj36-0s\", \"obj37-0\", \"obj38-0\", \"obj38-1\", \"obj39-0\", \"obj39-1\", \"obj40-0\", \"obj41-0\", \"obj42-0\", \"obj43-0\", \"obj44-0\", \"obj45-0\", \"obj46-0\", \"obj47-0\", \"obj48-0\", \"obj49-0\", \"obj50-0\", \"obj51-0\", \"obj52-0\", \"obj53-0\", \"obj54-0\", \"obj55-0\", \"obj56-0\", \"obj57-0\", \"obj58-0\", \"obj59-0\"], [\"A\", \"A\", \"B\", \"B\", \"C\", \"D\", \"E\", \"A\", \"A\", \"B\", \"B\", \"C\", \"D\", \"F\", \"B\", \"B\", \"B\", \"B\", \"C\", \"C\", \"F\", \"F\", \"A\", \"A\", \"D\", \"A\", \"A\", \"B\", \"B\", \"C\", \"D\", \"F\", \"A\", \"A\", \"B\", \"B\", \"D\", \"C\", \"C\", \"F\", \"F\", \"A\", \"A\", \"B\", \"B\", \"D\", \"C\", \"C\", \"F\", \"F\", \"A\", \"A\", \"B\", \"B\", \"D\", \"C\", \"C\", \"E\", \"E\", \"A\", \"A\", \"B\", \"B\", \"D\", \"C\", \"C\", \"E\", \"E\", \"F\", \"G\", \"H\", \"I\", \"F\", \"G\", \"H\", \"I\", \"F\", \"G\", \"H\", \"I\", \"F\", \"G\", \"H\", \"I\", \"F\", \"G\", \"H\", \"I\"], [1.85, 1.85, 1.85, 1.85, 1.85, 1.85, 1.85, 4.85, 4.85, 4.85, 4.85, 4.85, 4.85, 4.85, 7.15, 7.15, 7.15, 7.15, 7.15, 7.15, 7.15, 7.15, 7.15, 7.15, 7.15, 9.475000000000001, 9.475000000000001, 9.475000000000001, 9.475000000000001, 9.475000000000001, 9.475000000000001, 9.475000000000001, 11.375, 11.375, 11.375, 11.375, 11.375, 11.375, 11.375, 11.375, 11.375, 13.0, 13.0, 13.0, 13.0, 13.0, 13.0, 13.0, 13.0, 13.0, 14.9, 14.9, 14.9, 14.9, 14.9, 14.9, 14.9, 14.9, 14.9, 17.45, 17.45, 17.45, 17.45, 17.45, 17.45, 17.45, 17.45, 17.45, 4.85, 4.85, 4.85, 4.85, 7.15, 7.15, 7.15, 7.15, 9.475000000000001, 9.475000000000001, 9.475000000000001, 9.475000000000001, 11.375, 11.375, 11.375, 11.375, 13.0, 13.0, 13.0, 13.0], [0.12824208875715348, -0.12824208875715348, 0.28552748308295256, -0.28552748308295256, 0.47090754010660857, 0.0, -0.47090754010660857, 0.2712599288589883, -0.2712599288589883, 0.5812969042510071, -0.5812969042510071, 0.6696168626661863, 0.0, -0.6441955972500167, 0.6012859497370738, 0.621032610799951, -0.6012859497370738, -0.621032610799951, 0.6604467028675309, 0.7195282259398137, -0.6426761844647488, -0.6662166707314675, 0.29570630960281763, -0.29570630960281763, 0.0, 0.2751109277096805, -0.2751109277096805, 0.5649621002113312, -0.5649621002113312, 0.6792395733689441, 0.0, -0.6124624340384521, 0.23228535639279074, -0.23228535639279074, 0.511230883802303, -0.511230883802303, 0.0, 0.6157620011180627, 0.7315038937161391, -0.573692263853669, -0.6052946819229581, 0.19198137069128024, -0.19198137069128024, 0.4606255254569322, -0.4606255254569322, 0.0, 0.5963780660476758, 0.7145575790804196, -0.5667822415164381, -0.6257701054867064, 0.15839063224746397, -0.15839063224746397, 0.3815338128521074, -0.3815338128521074, 0.0, 0.5132667142775261, 0.6472274204140045, -0.5132667142775261, -0.6472274204140045, 0.08956044886337229, -0.08956044886337229, 0.20158736562054824, -0.20158736562054824, 0.0, 0.2901891190999822, 0.42245969027124286, -0.2901891190999822, -0.42245969027124286, -0.6441955972500167, -0.9750143997565086, -1.9629385133237767, -2.821736070884968, -0.6544464275981082, -1.1994600502468968, -2.0946842119200575, -2.706856383688983, -0.6124624340384521, -1.240850967978367, -2.1057464486706006, -2.665049676044161, -0.5894934728883136, -1.2095251901832178, -2.0753481520800987, -2.6547317768452565, -0.5962761735015722, -0.9779764127197119, -1.8285473645409827, -2.6565675067580763], [-0.47207997773996824, -0.47207997773996824, -0.20962429012110792, -0.20962429012110792, 0.6202929512553063, 1.2405859025106125, 0.6202929512553063, -0.6966098715642346, -0.6966098715642346, -0.27956924220450186, -0.27956924220450186, 0.916600910731482, 1.833201821462964, 0.4288218666725735, -0.4632830467150376, -0.15442768223834583, -0.4632830467150376, -0.15442768223834583, 0.4656855549913414, 1.3970566649740241, 0.18626170954053628, 0.5587851286216088, -0.7954997986553987, -0.7954997986553987, 1.8627422199653656, -0.823578660157646, -0.823578660157646, -0.3136498590715523, -0.3136498590715523, 0.9286959127760332, 1.8573918255520665, 0.3148766643647144, -0.8107219873353179, -0.8107219873353179, -0.2976423309928927, -0.2976423309928927, 1.8751138571575852, 0.4687784642893963, 1.406335392868189, 0.1279129914750005, 0.3837389744250015, -0.7773283950280339, -0.7773283950280339, -0.269168938351668, -0.269168938351668, 1.9042016739970724, 0.4760504184992681, 1.4281512554978044, 0.2349800768009398, 0.7049402304028194, -0.699598092602292, -0.699598092602292, -0.22048600783477568, -0.22048600783477568, 1.9166983297142104, 0.4791745824285526, 1.437523747285658, 0.4791745824285526, 1.437523747285658, -0.37861002907578584, -0.37861002907578584, -0.07215393317952838, -0.07215393317952838, 1.9053656074183958, 0.47634140185459894, 1.4290242055637967, 0.47634140185459894, 1.4290242055637967, 0.4288218666725735, 0.9551294623068328, 1.0526151912685187, 0.9569468031954038, 0.37252341908107256, 0.9147620727508942, 1.0844773073396432, 0.8883622494255473, 0.3148766643647144, 0.8584753710092975, 1.0871974132891662, 0.8496357534321333, 0.255825982950001, 0.7797095275400574, 1.0477670891801127, 0.8269623247318084, 0.4699601536018796, 1.072910650062782, 1.205900992921805, 0.9236808756531667], [-0.47207997773996824, -0.47207997773996824, -0.20962429012110792, -0.20962429012110792, 0.6202929512553063, 1.2405859025106125, 0.6202929512553063, -0.6966098715642346, -0.6966098715642346, -0.27956924220450186, -0.27956924220450186, 0.916600910731482, 1.833201821462964, 0.4288218666725735, -0.4632830467150376, -0.15442768223834583, -0.4632830467150376, -0.15442768223834583, 0.4656855549913414, 1.3970566649740241, 0.18626170954053628, 0.5587851286216088, -0.7954997986553987, -0.7954997986553987, 1.8627422199653656, -0.823578660157646, -0.823578660157646, -0.3136498590715523, -0.3136498590715523, 0.9286959127760332, 1.8573918255520665, 0.3148766643647144, -0.8107219873353179, -0.8107219873353179, -0.2976423309928927, -0.2976423309928927, 1.8751138571575852, 0.4687784642893963, 1.406335392868189, 0.1279129914750005, 0.3837389744250015, -0.7773283950280339, -0.7773283950280339, -0.269168938351668, -0.269168938351668, 1.9042016739970724, 0.4760504184992681, 1.4281512554978044, 0.2349800768009398, 0.7049402304028194, -0.699598092602292, -0.699598092602292, -0.22048600783477568, -0.22048600783477568, 1.9166983297142104, 0.4791745824285526, 1.437523747285658, 0.4791745824285526, 1.437523747285658, -0.37861002907578584, -0.37861002907578584, -0.07215393317952838, -0.07215393317952838, 1.9053656074183958, 0.47634140185459894, 1.4290242055637967, 0.47634140185459894, 1.4290242055637967, 0.4288218666725735, 0.9551294623068328, 1.0526151912685187, 0.9569468031954038, 0.37252341908107256, 0.9147620727508942, 1.0844773073396432, 0.8883622494255473, 0.3148766643647144, 0.8584753710092975, 1.0871974132891662, 0.8496357534321333, 0.255825982950001, 0.7797095275400574, 1.0477670891801127, 0.8269623247318084, 0.4699601536018796, 1.072910650062782, 1.205900992921805, 0.9236808756531667], [\"-\", \"-\", \"-\", \"-\", \"-\", \"-\", \"-\", \"-\", \"-\", \"-\", \"-\", \"-\", \"-\", 0.857643733345147, \"-\", \"-\", \"-\", \"-\", \"-\", \"-\", 0.7450468381621451, 0.7450468381621451, \"-\", \"-\", \"-\", \"-\", \"-\", \"-\", \"-\", \"-\", \"-\", 0.6297533287294288, \"-\", \"-\", \"-\", \"-\", \"-\", \"-\", \"-\", 0.511651965900002, 0.511651965900002, \"-\", \"-\", \"-\", \"-\", \"-\", \"-\", \"-\", 0.9399203072037592, 0.9399203072037592, \"-\", \"-\", \"-\", \"-\", \"-\", \"-\", \"-\", \"-\", \"-\", \"-\", \"-\", \"-\", \"-\", \"-\", \"-\", \"-\", \"-\", \"-\", 0.857643733345147, 0.857643733345147, 0.857643733345147, 0.857643733345147, 0.7450468381621451, 0.7450468381621451, 0.7450468381621451, 0.7450468381621451, 0.6297533287294288, 0.6297533287294288, 0.6297533287294288, 0.6297533287294288, 0.511651965900002, 0.511651965900002, 0.511651965900002, 0.511651965900002, 0.9399203072037592, 0.9399203072037592, 0.9399203072037592, 0.9399203072037592], [-0.5249113752377206, -0.5249113752377206, -0.5249113752377206, -0.5249113752377206, -0.5249113752377206, -0.5249113752377206, -0.5249113752377206, -0.8340812587194654, -0.8340812587194654, -0.8340812587194654, -0.8340812587194654, -0.8340812587194654, -0.8340812587194654, -0.8340812587194654, -0.9732888683574137, -0.9732888683574137, -0.9732888683574137, -0.9732888683574137, -0.9732888683574137, -0.9732888683574137, -0.9732888683574137, -0.9732888683574137, -0.9732888683574137, -0.9732888683574137, -0.9732888683574137, -1.0198576021721875, -1.0198576021721875, -1.0198576021721875, -1.0198576021721875, -1.0198576021721875, -1.0198576021721875, -1.0198576021721875, -1.0261593126848503, -1.0261593126848503, -1.0261593126848503, -1.0261593126848503, -1.0261593126848503, -1.0261593126848503, -1.0261593126848503, -1.0261593126848503, -1.0261593126848503, -1.0163189133527317, -1.0163189133527317, -1.0163189133527317, -1.0163189133527317, -1.0163189133527317, -1.0163189133527317, -1.0163189133527317, -1.0163189133527317, -1.0163189133527317, -0.9582241695350324, -0.9582241695350324, -0.9582241695350324, -0.9582241695350324, -0.9582241695350324, -0.9582241695350324, -0.9582241695350324, -0.9582241695350324, -0.9582241695350324, -0.6129121917925149, -0.6129121917925149, -0.6129121917925149, -0.6129121917925149, -0.6129121917925149, -0.6129121917925149, -0.6129121917925149, -0.6129121917925149, -0.6129121917925149, -0.8340812587194654, -0.8340812587194654, -0.8340812587194654, -0.8340812587194654, -0.9732888683574137, -0.9732888683574137, -0.9732888683574137, -0.9732888683574137, -1.0198576021721875, -1.0198576021721875, -1.0198576021721875, -1.0198576021721875, -1.0261593126848503, -1.0261593126848503, -1.0261593126848503, -1.0261593126848503, -1.0163189133527317, -1.0163189133527317, -1.0163189133527317, -1.0163189133527317], [1.4345475, 1.4345475, 1.4345475, 1.4345475, 1.4345475, 1.4345475, 1.4345475, 1.5375975, 1.5375975, 1.5375975, 1.5375975, 1.5375975, 1.5375975, 1.5375975, 1.6166025, 1.6166025, 1.6166025, 1.6166025, 1.6166025, 1.6166025, 1.6166025, 1.6166025, 1.6166025, 1.6166025, 1.6166025, 1.69646625, 1.69646625, 1.69646625, 1.69646625, 1.69646625, 1.69646625, 1.69646625, 1.76173125, 1.76173125, 1.76173125, 1.76173125, 1.76173125, 1.76173125, 1.76173125, 1.76173125, 1.76173125, 1.81755, 1.81755, 1.81755, 1.81755, 1.81755, 1.81755, 1.81755, 1.81755, 1.81755, 1.882815, 1.882815, 1.882815, 1.882815, 1.882815, 1.882815, 1.882815, 1.882815, 1.882815, 1.9704074999999999, 1.9704074999999999, 1.9704074999999999, 1.9704074999999999, 1.9704074999999999, 1.9704074999999999, 1.9704074999999999, 1.9704074999999999, 1.9704074999999999, 1.5375975, 1.5375975, 1.5375975, 1.5375975, 1.6166025, 1.6166025, 1.6166025, 1.6166025, 1.69646625, 1.69646625, 1.69646625, 1.69646625, 1.76173125, 1.76173125, 1.76173125, 1.76173125, 1.81755, 1.81755, 1.81755, 1.81755], [536.5800839775097, 536.5800839775097, 647.7962491331886, 647.7962491331886, 1913.2799326244356, 1675.8960835952744, 1913.2799326244356, 604.4066658971216, 604.4066658971216, 545.1579472118245, 545.1579472118245, 1876.2119712580775, 1440.2207484226635, 762.8516223661492, 279.5132927080803, 299.77704078375444, 279.5132927080803, 299.77704078375444, 928.0035704949013, 922.9878000910671, 368.17570654450515, 357.21139457298034, 663.9350142726722, 663.9350142726722, 1498.2120362078372, 642.4588850970079, 642.4588850970079, 638.4643444397218, 638.4643444397218, 1868.9639452733927, 1557.5592553254917, 525.0802634707147, 620.2193190446282, 620.2193190446282, 619.4569836389919, 619.4569836389919, 1449.9999999999993, 952.571618491813, 967.7775649153688, 251.42807581263827, 238.1256693877876, 625.6214875373918, 625.6214875373918, 580.8186811471862, 580.8186811471862, 1547.5289632115287, 962.0190802716601, 976.0603826029949, 692.0277166956099, 1136.4982741346125, 691.90655218364, 691.90655218364, 504.3310275340456, 504.3310275340456, 1428.4168565424452, 957.8964254815124, 957.4282245982375, 957.8964254815124, 957.4282245982375, 1001.2742627492304, 1001.2742627492304, 436.51331108401456, 436.51331108401456, 977.4098347156752, 965.8948631854053, 961.5143680326089, 965.8948631854053, 961.5143680326089, 762.8516223661492, 771.3495404137971, 1787.0091877290542, 282.44316975542193, 734.8572989752126, 1109.0770569072442, 877.0132250390114, 538.6134850022447, 525.0802634707147, 1115.2155853240956, 634.6778743054127, 683.8958292095704, 502.5451879055681, 1135.4126933261439, 623.9523901612098, 661.9756823090058, 1387.5232338170404, 890.8462028250858, 802.2625854278028, 615.0391950802518], [3700.0, 3700.0, 3700.0, 3700.0, 3700.0, 3700.0, 3700.0, 2300.0, 2300.0, 2300.0, 2300.0, 2300.0, 2300.0, 2300.0, 2300.000000000001, 2300.000000000001, 2300.000000000001, 2300.000000000001, 2300.000000000001, 2300.000000000001, 2300.000000000001, 2300.000000000001, 2300.000000000001, 2300.000000000001, 2300.000000000001, 2349.9999999999995, 2349.9999999999995, 2349.9999999999995, 2349.9999999999995, 2349.9999999999995, 2349.9999999999995, 2349.9999999999995, 1449.9999999999993, 1449.9999999999993, 1449.9999999999993, 1449.9999999999993, 1579.0588955071316, 1449.9999999999993, 1449.9999999999993, 1449.9999999999993, 1449.9999999999993, 1800.0000000000007, 1800.0000000000007, 1800.0000000000007, 1800.0000000000007, 1800.0000000000007, 1800.0000000000007, 1800.0000000000007, 1800.0000000000007, 1800.0000000000007, 2000.0, 2000.0, 2000.0, 2000.0, 2000.0, 2000.0, 2000.0, 2000.0, 2000.0, 3099.9999999999995, 3099.9999999999995, 3099.9999999999995, 3099.9999999999995, 3099.9999999999995, 3099.9999999999995, 3099.9999999999995, 3099.9999999999995, 3099.9999999999995, 2300.0, 2300.0, 2300.0, 2300.0, 2300.000000000001, 2300.000000000001, 2300.000000000001, 2300.000000000001, 2349.9999999999995, 2349.9999999999995, 2349.9999999999995, 2349.9999999999995, 1449.9999999999993, 1449.9999999999993, 1449.9999999999993, 1449.9999999999993, 1800.0000000000007, 1800.0000000000007, 1800.0000000000007, 1800.0000000000007], [0, 0, 0, 0, 0, 0, 0, 0, 0, 0, 0, 0, 0, 0, 0, 0, 0, 0, 0, 0, 0, 0, 0, 0, 0, 0, 0, 0, 0, 0, 0, 0, 0, 0, 0, 0, 0, 0, 0, 0, 0, 0, 0, 0, 0, 0, 0, 0, 0, 0, 0, 0, 0, 0, 0, 0, 0, 0, 0, 0, 0, 0, 0, 0, 0, 0, 0, 0, 0, 0, 0, 0, 0, 0, 0, 0, 0, 0, 0, 0, 0, 0, 0, 0, 0, 0, 0, 0], [0, 0, 0, 0, 0, 0, 0, 0, 0, 0, 0, 0, 0, 0, 0, 0, 0, 0, 0, 0, 0, 0, 0, 0, 0, 0, 0, 0, 0, 0, 0, 0, 0, 0, 0, 0, 0, 0, 0, 0, 0, 0, 0, 0, 0, 0, 0, 0, 0, 0, 0, 0, 0, 0, 0, 0, 0, 0, 0, 0, 0, 0, 0, 0, 0, 0, 0, 0, 0, 0, 0, 0, 0, 0, 0, 0, 0, 0, 0, 0, 0, 0, 0, 0, 0, 0, 0, 0], [22.106613241374788, 22.106613241374788, 22.106613241374788, 22.106613241374788, 12.108665469549981, 5, 15.39174558458917, 24.198871053989762, 24.198871053989762, 25.296007381072933, 25.296007381072933, 10.202738678899511, 5, 24.734071243638642, 43.540707398978014, 42.45300048595488, 43.540707398978014, 42.45300048595488, 20.252733264469185, 10.08402689837757, 46.762053383841874, 49.71371659735625, 30.852300459937187, 30.852300459937187, 5.158326491758758, 38.90348300115389, 38.90348300115389, 39.012072810757644, 39.012072810757644, 12.790597439119011, 5.745574738290336, 53.2121513460593, 53.153918894221015, 53.153918894221015, 53.18278989923416, 53.18278989923416, 7.563311595538641, 33.654759199889746, 17.796401561602394, 86.49004619636136, 90.62820131801865, 51.92226636715282, 51.92226636715282, 53.63649946948901, 53.63649946948901, 7.162289221937271, 33.12184099141582, 17.829572396429178, 45.98867928020297, 34.489657907438456, 48.070032213397894, 48.070032213397894, 55.154779191657305, 55.154779191657305, 7.353438654003963, 32.83860119460415, 18.49509976121334, 31.395936926272025, 25.05524400420265, 35.01545093683951, 35.01545093683951, 51.262710091458025, 51.262710091458025, 8.137096486308318, 30.815997591605665, 18.560529419841533, 29.97331291853495, 24.975505043109116, 24.734071243638642, 25.6094318656796, 22.106613241374788, 38.619917456789885, 35.890013356532876, 30.377842261587684, 34.5384551276455, 43.25930049340128, 53.2121513460593, 38.610502440721866, 51.38028022979316, 49.675370040295455, 67.48122938336093, 46.661879632254845, 63.23271538428951, 61.580697109717704, 30.83746329104837, 38.86170944892091, 40.96666690171035, 46.34524708029306], [\"b\", \"b\", \"b\", \"b\", \"b\", \"b\", \"b\", \"b\", \"b\", \"b\", \"b\", \"b\", \"b\", \"b\", \"b\", \"b\", \"b\", \"b\", \"b\", \"b\", \"b\", \"b\", \"b\", \"b\", \"b\", \"b\", \"b\", \"b\", \"b\", \"b\", \"b\", \"b\", \"b\", \"b\", \"b\", \"b\", \"l\", \"b\", \"b\", \"b\", \"b\", \"b\", \"b\", \"b\", \"b\", \"b\", \"b\", \"b\", \"b\", \"b\", \"b\", \"b\", \"b\", \"b\", \"b\", \"b\", \"b\", \"b\", \"b\", \"b\", \"b\", \"b\", \"b\", \"b\", \"b\", \"b\", \"b\", \"b\", \"b\", \"b\", \"b\", \"b\", \"b\", \"b\", \"b\", \"b\", \"b\", \"b\", \"b\", \"b\", \"b\", \"b\", \"b\", \"b\", \"b\", \"b\", \"b\", \"b\"], [\"-\", \"-\", \"-\", \"-\", \"-\", \"-\", \"-\", \"-\", \"-\", \"-\", \"-\", \"-\", \"-\", \"-\", \"-\", \"-\", \"-\", \"-\", \"-\", \"-\", \"-\", \"-\", \"-\", \"-\", \"-\", \"-\", \"-\", \"-\", \"-\", \"-\", \"-\", \"-\", \"-\", \"-\", \"-\", \"-\", \"-\", \"-\", \"-\", \"-\", \"-\", \"-\", \"-\", \"-\", \"-\", \"-\", \"-\", \"-\", \"-\", \"-\", \"-\", \"-\", \"-\", \"-\", \"-\", \"-\", \"-\", \"-\", \"-\", \"-\", \"-\", \"-\", \"-\", \"-\", \"-\", \"-\", \"-\", \"-\", \"-\", \"-\", \"-\", \"-\", \"-\", \"-\", \"-\", \"-\", \"-\", \"-\", \"-\", \"-\", \"-\", \"-\", \"-\", \"-\", \"-\", \"-\", \"-\", \"-\"], [\"-\", \"-\", \"-\", \"-\", \"-\", \"-\", \"-\", \"-\", \"-\", \"-\", \"-\", \"-\", \"-\", \"-\", \"-\", \"-\", \"-\", \"-\", \"-\", \"-\", \"-\", \"-\", \"-\", \"-\", \"-\", \"-\", \"-\", \"-\", \"-\", \"-\", \"-\", \"-\", \"-\", \"-\", \"-\", \"-\", \"-\", \"-\", \"-\", \"-\", \"-\", \"-\", \"-\", \"-\", \"-\", \"-\", \"-\", \"-\", \"-\", \"-\", \"-\", \"-\", \"-\", \"-\", \"-\", \"-\", \"-\", \"-\", \"-\", \"-\", \"-\", \"-\", \"-\", \"-\", \"-\", \"-\", \"-\", \"-\", \"-\", \"-\", \"-\", \"-\", \"-\", \"-\", \"-\", \"-\", \"-\", \"-\", \"-\", \"-\", \"-\", \"-\", \"-\", \"-\", \"-\", \"-\", \"-\", \"-\"], [5.525429727748202, 5.525429727748202, 6.307735672583508, 6.307735672583508, 14.58720604064531, 9.596599244481032, 14.58720604064531, 6.572988220696845, 6.572988220696845, 5.951121484252547, 5.951121484252547, 11.68012049759603, 6.86754444575218, 7.065399106001782, 4.02359088611376, 4.1611456315026905, 4.02359088611376, 4.1611456315026905, 9.243583434649622, 6.487268232862024, 4.718881665105527, 4.297337631954573, 8.148244958800982, 8.148244958800982, 7.189523132699769, 8.851756131934373, 8.851756131934373, 8.597905911807429, 8.597905911807429, 13.179989648434207, 7.852894965816477, 6.84553747156112, 9.985369239406259, 9.985369239406259, 9.733159265295955, 9.733159265295955, 7.044632107475378, 11.65070382028807, 8.571175716491513, 4.507949932581808, 4.146538551764369, 9.950477115556904, 9.950477115556904, 9.159336993410353, 9.159336993410353, 7.861859658909685, 12.09692923626869, 8.991934615252504, 9.944899308069136, 12.672020739878937, 10.58381702823327, 10.58381702823327, 8.071761395097562, 8.071761395097562, 7.965641109627841, 12.149538297589125, 9.11346357766045, 12.149538297589125, 9.11346357766045, 13.072264133597688, 13.072264133597688, 6.799668838297529, 6.799668838297529, 6.666693612416445, 11.867708464445363, 9.168533058657829, 11.867708464445363, 9.168533058657829, 7.065399106001782, 6.174108277359859, 10.897667454276057, 2.765140835776374, 7.899693751302218, 9.332880015948728, 7.379437943666068, 5.4566980188892735, 6.84553747156112, 10.692835235032707, 6.4860310962977685, 7.4575053760533, 7.76235181923401, 11.60813412410634, 7.62601651432041, 8.558137516123606, 14.30323132422707, 9.955453987090042, 8.758499667958482, 7.869711717126246]]}, \"header\": {\"fill\": {\"color\": \"#b39732\"}, \"font\": {\"color\": \"white\"}, \"line\": {\"color\": \"white\"}, \"values\": [\"Reference\", \"Pos_elem\", \"x\", \"y\", \"z\", \"ZQx_Pan\", \"ZWDAX\", \"ZTx\", \"ZSTMX\", \"b\", \"l\", \"cb\", \"cl\", \"P calc\", \"Orientation\", \"detail1\", \"detail2\", \"Thickness_min\"]}, \"type\": \"table\", \"uid\": \"17d37417-87a9-421a-a7e7-7f5d5cc6b243\"}],                        {\"height\": 500, \"margin\": {\"b\": 0, \"l\": 0, \"pad\": 0, \"r\": 0, \"t\": 50}, \"template\": {\"data\": {\"bar\": [{\"error_x\": {\"color\": \"#2a3f5f\"}, \"error_y\": {\"color\": \"#2a3f5f\"}, \"marker\": {\"line\": {\"color\": \"#E5ECF6\", \"width\": 0.5}}, \"type\": \"bar\"}], \"barpolar\": [{\"marker\": {\"line\": {\"color\": \"#E5ECF6\", \"width\": 0.5}}, \"type\": \"barpolar\"}], \"carpet\": [{\"aaxis\": {\"endlinecolor\": \"#2a3f5f\", \"gridcolor\": \"white\", \"linecolor\": \"white\", \"minorgridcolor\": \"white\", \"startlinecolor\": \"#2a3f5f\"}, \"baxis\": {\"endlinecolor\": \"#2a3f5f\", \"gridcolor\": \"white\", \"linecolor\": \"white\", \"minorgridcolor\": \"white\", \"startlinecolor\": \"#2a3f5f\"}, \"type\": \"carpet\"}], \"choropleth\": [{\"colorbar\": {\"outlinewidth\": 0, \"ticks\": \"\"}, \"type\": \"choropleth\"}], \"contour\": [{\"colorbar\": {\"outlinewidth\": 0, \"ticks\": \"\"}, \"colorscale\": [[0.0, \"#0d0887\"], [0.1111111111111111, \"#46039f\"], [0.2222222222222222, \"#7201a8\"], [0.3333333333333333, \"#9c179e\"], [0.4444444444444444, \"#bd3786\"], [0.5555555555555556, \"#d8576b\"], [0.6666666666666666, \"#ed7953\"], [0.7777777777777778, \"#fb9f3a\"], [0.8888888888888888, \"#fdca26\"], [1.0, \"#f0f921\"]], \"type\": \"contour\"}], \"contourcarpet\": [{\"colorbar\": {\"outlinewidth\": 0, \"ticks\": \"\"}, \"type\": \"contourcarpet\"}], \"heatmap\": [{\"colorbar\": {\"outlinewidth\": 0, \"ticks\": \"\"}, \"colorscale\": [[0.0, \"#0d0887\"], [0.1111111111111111, \"#46039f\"], [0.2222222222222222, \"#7201a8\"], [0.3333333333333333, \"#9c179e\"], [0.4444444444444444, \"#bd3786\"], [0.5555555555555556, \"#d8576b\"], [0.6666666666666666, \"#ed7953\"], [0.7777777777777778, \"#fb9f3a\"], [0.8888888888888888, \"#fdca26\"], [1.0, \"#f0f921\"]], \"type\": \"heatmap\"}], \"heatmapgl\": [{\"colorbar\": {\"outlinewidth\": 0, \"ticks\": \"\"}, \"colorscale\": [[0.0, \"#0d0887\"], [0.1111111111111111, \"#46039f\"], [0.2222222222222222, \"#7201a8\"], [0.3333333333333333, \"#9c179e\"], [0.4444444444444444, \"#bd3786\"], [0.5555555555555556, \"#d8576b\"], [0.6666666666666666, \"#ed7953\"], [0.7777777777777778, \"#fb9f3a\"], [0.8888888888888888, \"#fdca26\"], [1.0, \"#f0f921\"]], \"type\": \"heatmapgl\"}], \"histogram\": [{\"marker\": {\"colorbar\": {\"outlinewidth\": 0, \"ticks\": \"\"}}, \"type\": \"histogram\"}], \"histogram2d\": [{\"colorbar\": {\"outlinewidth\": 0, \"ticks\": \"\"}, \"colorscale\": [[0.0, \"#0d0887\"], [0.1111111111111111, \"#46039f\"], [0.2222222222222222, \"#7201a8\"], [0.3333333333333333, \"#9c179e\"], [0.4444444444444444, \"#bd3786\"], [0.5555555555555556, \"#d8576b\"], [0.6666666666666666, \"#ed7953\"], [0.7777777777777778, \"#fb9f3a\"], [0.8888888888888888, \"#fdca26\"], [1.0, \"#f0f921\"]], \"type\": \"histogram2d\"}], \"histogram2dcontour\": [{\"colorbar\": {\"outlinewidth\": 0, \"ticks\": \"\"}, \"colorscale\": [[0.0, \"#0d0887\"], [0.1111111111111111, \"#46039f\"], [0.2222222222222222, \"#7201a8\"], [0.3333333333333333, \"#9c179e\"], [0.4444444444444444, \"#bd3786\"], [0.5555555555555556, \"#d8576b\"], [0.6666666666666666, \"#ed7953\"], [0.7777777777777778, \"#fb9f3a\"], [0.8888888888888888, \"#fdca26\"], [1.0, \"#f0f921\"]], \"type\": \"histogram2dcontour\"}], \"mesh3d\": [{\"colorbar\": {\"outlinewidth\": 0, \"ticks\": \"\"}, \"type\": \"mesh3d\"}], \"parcoords\": [{\"line\": {\"colorbar\": {\"outlinewidth\": 0, \"ticks\": \"\"}}, \"type\": \"parcoords\"}], \"pie\": [{\"automargin\": true, \"type\": \"pie\"}], \"scatter\": [{\"marker\": {\"colorbar\": {\"outlinewidth\": 0, \"ticks\": \"\"}}, \"type\": \"scatter\"}], \"scatter3d\": [{\"line\": {\"colorbar\": {\"outlinewidth\": 0, \"ticks\": \"\"}}, \"marker\": {\"colorbar\": {\"outlinewidth\": 0, \"ticks\": \"\"}}, \"type\": \"scatter3d\"}], \"scattercarpet\": [{\"marker\": {\"colorbar\": {\"outlinewidth\": 0, \"ticks\": \"\"}}, \"type\": \"scattercarpet\"}], \"scattergeo\": [{\"marker\": {\"colorbar\": {\"outlinewidth\": 0, \"ticks\": \"\"}}, \"type\": \"scattergeo\"}], \"scattergl\": [{\"marker\": {\"colorbar\": {\"outlinewidth\": 0, \"ticks\": \"\"}}, \"type\": \"scattergl\"}], \"scattermapbox\": [{\"marker\": {\"colorbar\": {\"outlinewidth\": 0, \"ticks\": \"\"}}, \"type\": \"scattermapbox\"}], \"scatterpolar\": [{\"marker\": {\"colorbar\": {\"outlinewidth\": 0, \"ticks\": \"\"}}, \"type\": \"scatterpolar\"}], \"scatterpolargl\": [{\"marker\": {\"colorbar\": {\"outlinewidth\": 0, \"ticks\": \"\"}}, \"type\": \"scatterpolargl\"}], \"scatterternary\": [{\"marker\": {\"colorbar\": {\"outlinewidth\": 0, \"ticks\": \"\"}}, \"type\": \"scatterternary\"}], \"surface\": [{\"colorbar\": {\"outlinewidth\": 0, \"ticks\": \"\"}, \"colorscale\": [[0.0, \"#0d0887\"], [0.1111111111111111, \"#46039f\"], [0.2222222222222222, \"#7201a8\"], [0.3333333333333333, \"#9c179e\"], [0.4444444444444444, \"#bd3786\"], [0.5555555555555556, \"#d8576b\"], [0.6666666666666666, \"#ed7953\"], [0.7777777777777778, \"#fb9f3a\"], [0.8888888888888888, \"#fdca26\"], [1.0, \"#f0f921\"]], \"type\": \"surface\"}], \"table\": [{\"cells\": {\"fill\": {\"color\": \"#EBF0F8\"}, \"line\": {\"color\": \"white\"}}, \"header\": {\"fill\": {\"color\": \"#C8D4E3\"}, \"line\": {\"color\": \"white\"}}, \"type\": \"table\"}]}, \"layout\": {\"annotationdefaults\": {\"arrowcolor\": \"#2a3f5f\", \"arrowhead\": 0, \"arrowwidth\": 1}, \"autotypenumbers\": \"strict\", \"coloraxis\": {\"colorbar\": {\"outlinewidth\": 0, \"ticks\": \"\"}}, \"colorscale\": {\"diverging\": [[0, \"#8e0152\"], [0.1, \"#c51b7d\"], [0.2, \"#de77ae\"], [0.3, \"#f1b6da\"], [0.4, \"#fde0ef\"], [0.5, \"#f7f7f7\"], [0.6, \"#e6f5d0\"], [0.7, \"#b8e186\"], [0.8, \"#7fbc41\"], [0.9, \"#4d9221\"], [1, \"#276419\"]], \"sequential\": [[0.0, \"#0d0887\"], [0.1111111111111111, \"#46039f\"], [0.2222222222222222, \"#7201a8\"], [0.3333333333333333, \"#9c179e\"], [0.4444444444444444, \"#bd3786\"], [0.5555555555555556, \"#d8576b\"], [0.6666666666666666, \"#ed7953\"], [0.7777777777777778, \"#fb9f3a\"], [0.8888888888888888, \"#fdca26\"], [1.0, \"#f0f921\"]], \"sequentialminus\": [[0.0, \"#0d0887\"], [0.1111111111111111, \"#46039f\"], [0.2222222222222222, \"#7201a8\"], [0.3333333333333333, \"#9c179e\"], [0.4444444444444444, \"#bd3786\"], [0.5555555555555556, \"#d8576b\"], [0.6666666666666666, \"#ed7953\"], [0.7777777777777778, \"#fb9f3a\"], [0.8888888888888888, \"#fdca26\"], [1.0, \"#f0f921\"]]}, \"colorway\": [\"#636efa\", \"#EF553B\", \"#00cc96\", \"#ab63fa\", \"#FFA15A\", \"#19d3f3\", \"#FF6692\", \"#B6E880\", \"#FF97FF\", \"#FECB52\"], \"font\": {\"color\": \"#2a3f5f\"}, \"geo\": {\"bgcolor\": \"white\", \"lakecolor\": \"white\", \"landcolor\": \"#E5ECF6\", \"showlakes\": true, \"showland\": true, \"subunitcolor\": \"white\"}, \"hoverlabel\": {\"align\": \"left\"}, \"hovermode\": \"closest\", \"mapbox\": {\"style\": \"light\"}, \"paper_bgcolor\": \"white\", \"plot_bgcolor\": \"#E5ECF6\", \"polar\": {\"angularaxis\": {\"gridcolor\": \"white\", \"linecolor\": \"white\", \"ticks\": \"\"}, \"bgcolor\": \"#E5ECF6\", \"radialaxis\": {\"gridcolor\": \"white\", \"linecolor\": \"white\", \"ticks\": \"\"}}, \"scene\": {\"xaxis\": {\"backgroundcolor\": \"#E5ECF6\", \"gridcolor\": \"white\", \"gridwidth\": 2, \"linecolor\": \"white\", \"showbackground\": true, \"ticks\": \"\", \"zerolinecolor\": \"white\"}, \"yaxis\": {\"backgroundcolor\": \"#E5ECF6\", \"gridcolor\": \"white\", \"gridwidth\": 2, \"linecolor\": \"white\", \"showbackground\": true, \"ticks\": \"\", \"zerolinecolor\": \"white\"}, \"zaxis\": {\"backgroundcolor\": \"#E5ECF6\", \"gridcolor\": \"white\", \"gridwidth\": 2, \"linecolor\": \"white\", \"showbackground\": true, \"ticks\": \"\", \"zerolinecolor\": \"white\"}}, \"shapedefaults\": {\"line\": {\"color\": \"#2a3f5f\"}}, \"ternary\": {\"aaxis\": {\"gridcolor\": \"white\", \"linecolor\": \"white\", \"ticks\": \"\"}, \"baxis\": {\"gridcolor\": \"white\", \"linecolor\": \"white\", \"ticks\": \"\"}, \"bgcolor\": \"#E5ECF6\", \"caxis\": {\"gridcolor\": \"white\", \"linecolor\": \"white\", \"ticks\": \"\"}}, \"title\": {\"x\": 0.05}, \"xaxis\": {\"automargin\": true, \"gridcolor\": \"white\", \"linecolor\": \"white\", \"ticks\": \"\", \"title\": {\"standoff\": 15}, \"zerolinecolor\": \"white\", \"zerolinewidth\": 2}, \"yaxis\": {\"automargin\": true, \"gridcolor\": \"white\", \"linecolor\": \"white\", \"ticks\": \"\", \"title\": {\"standoff\": 15}, \"zerolinecolor\": \"white\", \"zerolinewidth\": 2}}}, \"title\": {\"text\": \"ISO 12215 Panel Analysis\"}},                        {\"responsive\": true}                    ).then(function(){\n",
       "                            \n",
       "var gd = document.getElementById('d28cbf88-e1c9-4515-9ff1-1db2489c7584');\n",
       "var x = new MutationObserver(function (mutations, observer) {{\n",
       "        var display = window.getComputedStyle(gd).display;\n",
       "        if (!display || display === 'none') {{\n",
       "            console.log([gd, 'removed!']);\n",
       "            Plotly.purge(gd);\n",
       "            observer.disconnect();\n",
       "        }}\n",
       "}});\n",
       "\n",
       "// Listen for the removal of the full notebook cells\n",
       "var notebookContainer = gd.closest('#notebook-container');\n",
       "if (notebookContainer) {{\n",
       "    x.observe(notebookContainer, {childList: true});\n",
       "}}\n",
       "\n",
       "// Listen for the clearing of the current output cell\n",
       "var outputEl = gd.closest('.output');\n",
       "if (outputEl) {{\n",
       "    x.observe(outputEl, {childList: true});\n",
       "}}\n",
       "\n",
       "                        })                };                });            </script>        </div>"
      ]
     },
     "metadata": {},
     "output_type": "display_data"
    }
   ],
   "source": [
    "res = panels_\n",
    "trace4 = go.Table(\n",
    "    header=dict(values=res.columns,\n",
    "                fill_color='#b39732',\n",
    "                line_color='white',\n",
    "                font=dict(color='white'),\n",
    "                #align=['left','left','left','center','center','center'],\n",
    "               ),\n",
    "    cells=dict(#values=materiauTable.transpose().values.tolist(),\n",
    "                values = res.transpose().values.tolist(),\n",
    "                fill_color='#3ba7b3',\n",
    "                line_color='white',\n",
    "                font=dict(color='white'),\n",
    "                #align=['left','left','center'],\n",
    "                format = [None,None,\".3f\",\".3f\",\".3f\",\".3f\",\".3f\",\".3f\",\".3f\",\".0f\",\".0f\",\".0f\",\".0f\",\".1f\",\"\",\"\",\"\",\".1f\"],\n",
    "                ),\n",
    "    #columnwidth = [110,150,550]\n",
    "    )\n",
    "layout4 = go.Layout(title='ISO 12215 Panel Analysis',\n",
    "                    #width=800,\n",
    "                    height=500,\n",
    "                    margin=dict(\n",
    "                                l=0,\n",
    "                                r=0,\n",
    "                                b=0,\n",
    "                                t=50,\n",
    "                                pad=0\n",
    "                                ),\n",
    "                   )\n",
    "panel_table = go.FigureWidget(data=[trace4], layout=layout4)\n",
    "#panel_table.show(renderer='notebook')\n",
    "panel_table.show()"
   ]
  },
  {
   "cell_type": "markdown",
   "id": "266c4a79",
   "metadata": {},
   "source": [
    "<b>Pos_element</b>   []    Panel zone<br>\n",
    "<b>x</b>   [m]    Longitudinal position of the center from AP<br>\n",
    "<b>y</b>   [m]    Transversal position of the center from hull center plane<br>\n",
    "<b>z</b>   [m]    Vertical position of the center from WL<br>\n",
    "<b>ZQX_panel</b>   [m]    Height of point x Q above WL at section x<br>\n",
    "<b>ZWDAX</b>   [m]    Height above WL of the theoretical wet deck height at section x<br>\n",
    "<b>ZTX</b>   [m]    Height of local hard chine above WL at section x<br>\n",
    "<b>ZSDTM</b>  [m]  Height above WL of the theoretical side/deck limit<br>\n",
    "<b>b</b>  [mm]  Shorter dimension of panel<br>\n",
    "<b>l</b>  [mm]  Longer dimension of panel<br>\n",
    "<b>cb</b>  [mm]  Curvature of the panel along the shorter edge<br>\n",
    "<b>cl</b>  [mm]  Curvature of the panel along the longer edge<br>\n",
    "<b>P</b>  [kPa]  Design pressure<br>\n",
    "<b>Thickness</b>  [mm]  Minimum required thickness<br>"
   ]
  },
  {
   "cell_type": "code",
   "execution_count": 49,
   "id": "660365e7",
   "metadata": {
    "scrolled": false
   },
   "outputs": [
    {
     "data": {
      "application/vnd.jupyter.widget-view+json": {
       "model_id": "d9d02dc5985a46adb1e68534a3a9f8b8",
       "version_major": 2,
       "version_minor": 0
      },
      "text/plain": [
       "FigureWidget({\n",
       "    'data': [{'colorscale': [[0.0, 'rgb(8,48,107)'], [0.125, 'rgb(8,81,156)'],\n",
       "                …"
      ]
     },
     "metadata": {},
     "output_type": "display_data"
    }
   ],
   "source": [
    "#display object\n",
    "fig = go.FigureWidget(data=data)\n",
    "fig.add_trace(go.Scatter3d(\n",
    "    x=panels_['x'],\n",
    "    y=panels_['y'],\n",
    "    z=panels_['z'],\n",
    "    mode=\"text\",\n",
    "    name=\"iso12215-7\",\n",
    "    text=panels_['Reference'],\n",
    "    textposition=\"middle center\",\n",
    "    textfont=dict(color=\"black\",size=12),\n",
    "))\n",
    "fig.update_layout(scene_aspectmode='data',\n",
    "                  title = 'Graphical representation'\n",
    "                  #width=800, height=800,\n",
    "                 )\n",
    "fig.update_traces(showscale=False, selector=dict(type='surface'))\n",
    "fig.update(layout_showlegend=False)\n",
    "#fig.show(renderer='notebook')"
   ]
  },
  {
   "cell_type": "code",
   "execution_count": 50,
   "id": "7af76735",
   "metadata": {},
   "outputs": [
    {
     "data": {
      "application/vnd.jupyter.widget-view+json": {
       "model_id": "c4bd0082c6d74326b4336613447979e6",
       "version_major": 2,
       "version_minor": 0
      },
      "text/plain": [
       "ToggleButtons(description='Choose information to display', options=('Reference', 'Pression', 'Thickness'), sty…"
      ]
     },
     "metadata": {},
     "output_type": "display_data"
    }
   ],
   "source": [
    "import ipywidgets as widgets\n",
    "\n",
    "def change_information_display(b):\n",
    "    global panels\n",
    "    if w.value == 'Reference':\n",
    "        fig.data[-1].text =panels_['Reference']\n",
    "        fig.data[-1].textfont.size = 12\n",
    "    if w.value == 'Pression':\n",
    "        fig.data[-1].text = [\"{:.1f}\".format(a)+\"kPa\" for a in panels_['P calc']]\n",
    "        fig.data[-1].textfont.size = 18\n",
    "    if w.value == 'Thickness':\n",
    "        fig.data[-1].text = [\"{:.1f}\".format(a)+\"mm\" for a in panels_['Thickness_min']]\n",
    "        fig.data[-1].textfont.size = 18\n",
    "\n",
    "style = {'description_width': 'initial'}\n",
    "w = widgets.ToggleButtons(\n",
    "    options=['Reference', 'Pression', 'Thickness'],\n",
    "    description='Choose information to display',\n",
    "    disabled=False,\n",
    "    style=style,\n",
    "    button_style='', # 'success', 'info', 'warning', 'danger' or ''\n",
    "    tooltips=['Panel reference', 'iso 12215-7 Pressure', 'iso12215-5 Thickness'],\n",
    "#     icons=['check'] * 3\n",
    ")\n",
    "w.observe(change_information_display)\n",
    "w"
   ]
  },
  {
   "cell_type": "markdown",
   "id": "66ab6c3a",
   "metadata": {},
   "source": [
    "## Informations"
   ]
  },
  {
   "cell_type": "markdown",
   "id": "276cdfae",
   "metadata": {},
   "source": [
    "Report created by <b>A.C.E. CATTELLIOT ENGINEERING</b>, 28 rue Lavoisier, 17440 AYTRE, FRANCE. An interactive version of this report is available [here](https://mybinder.org/v2/gh/Alan-Cattelliot/A8663.git/main?urlpath=%2Fvoila%2Frender%2FSuper_boat.ipynb). <i>This external link automatically create a protected virtual machine. If the machine takes too long to start, please refresh the page in   \n",
    "\n"
   ]
  }
 ],
 "metadata": {
  "kernelspec": {
   "display_name": "Python 3",
   "language": "python",
   "name": "python3"
  },
  "language_info": {
   "codemirror_mode": {
    "name": "ipython",
    "version": 3
   },
   "file_extension": ".py",
   "mimetype": "text/x-python",
   "name": "python",
   "nbconvert_exporter": "python",
   "pygments_lexer": "ipython3",
   "version": "3.9.5"
  }
 },
 "nbformat": 4,
 "nbformat_minor": 5
}
